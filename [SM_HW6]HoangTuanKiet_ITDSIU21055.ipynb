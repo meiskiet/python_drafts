{
  "nbformat": 4,
  "nbformat_minor": 0,
  "metadata": {
    "colab": {
      "provenance": []
    },
    "kernelspec": {
      "name": "python3",
      "display_name": "Python 3"
    },
    "language_info": {
      "name": "python"
    }
  },
  "cells": [
    {
      "cell_type": "markdown",
      "source": [
        "# Discrete Distribution"
      ],
      "metadata": {
        "id": "Cynm65eZhiz7"
      }
    },
    {
      "cell_type": "markdown",
      "source": [
        "## 17/330\n",
        "\n",
        "In the Sullivan Statistics Survey, individuals\n",
        "were asked to disclose the number of televisions in their\n",
        "household. In the following probability distribution, the\n",
        "random variable X represents the number of televisions in\n",
        "households.\n",
        "\n",
        "![image.png](data:image/png;base64,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)"
      ],
      "metadata": {
        "id": "RV2BrrbHU3Pr"
      }
    },
    {
      "cell_type": "code",
      "source": [
        "import pandas as pd\n",
        "df17 = pd.DataFrame({\n",
        "    'x': [0, 1, 2, 3, 4, 5, 6, 7, 8, 9],\n",
        "    'P(x)': [0, 0.161, 0.261, 0.176, 0.186, 0.116, 0.055, 0.025, 0.010, 0.010]\n",
        "})\n",
        "df17"
      ],
      "metadata": {
        "colab": {
          "base_uri": "https://localhost:8080/",
          "height": 363
        },
        "id": "gEsGPXeEWDS3",
        "outputId": "ee103d7d-fe3b-4fbd-f379-a51a33dcf032"
      },
      "execution_count": 3,
      "outputs": [
        {
          "output_type": "execute_result",
          "data": {
            "text/plain": [
              "   x   P(x)\n",
              "0  0  0.000\n",
              "1  1  0.161\n",
              "2  2  0.261\n",
              "3  3  0.176\n",
              "4  4  0.186\n",
              "5  5  0.116\n",
              "6  6  0.055\n",
              "7  7  0.025\n",
              "8  8  0.010\n",
              "9  9  0.010"
            ],
            "text/html": [
              "\n",
              "  <div id=\"df-49238c35-1d70-41ad-87f7-e3e34a3ce8f5\" class=\"colab-df-container\">\n",
              "    <div>\n",
              "<style scoped>\n",
              "    .dataframe tbody tr th:only-of-type {\n",
              "        vertical-align: middle;\n",
              "    }\n",
              "\n",
              "    .dataframe tbody tr th {\n",
              "        vertical-align: top;\n",
              "    }\n",
              "\n",
              "    .dataframe thead th {\n",
              "        text-align: right;\n",
              "    }\n",
              "</style>\n",
              "<table border=\"1\" class=\"dataframe\">\n",
              "  <thead>\n",
              "    <tr style=\"text-align: right;\">\n",
              "      <th></th>\n",
              "      <th>x</th>\n",
              "      <th>P(x)</th>\n",
              "    </tr>\n",
              "  </thead>\n",
              "  <tbody>\n",
              "    <tr>\n",
              "      <th>0</th>\n",
              "      <td>0</td>\n",
              "      <td>0.000</td>\n",
              "    </tr>\n",
              "    <tr>\n",
              "      <th>1</th>\n",
              "      <td>1</td>\n",
              "      <td>0.161</td>\n",
              "    </tr>\n",
              "    <tr>\n",
              "      <th>2</th>\n",
              "      <td>2</td>\n",
              "      <td>0.261</td>\n",
              "    </tr>\n",
              "    <tr>\n",
              "      <th>3</th>\n",
              "      <td>3</td>\n",
              "      <td>0.176</td>\n",
              "    </tr>\n",
              "    <tr>\n",
              "      <th>4</th>\n",
              "      <td>4</td>\n",
              "      <td>0.186</td>\n",
              "    </tr>\n",
              "    <tr>\n",
              "      <th>5</th>\n",
              "      <td>5</td>\n",
              "      <td>0.116</td>\n",
              "    </tr>\n",
              "    <tr>\n",
              "      <th>6</th>\n",
              "      <td>6</td>\n",
              "      <td>0.055</td>\n",
              "    </tr>\n",
              "    <tr>\n",
              "      <th>7</th>\n",
              "      <td>7</td>\n",
              "      <td>0.025</td>\n",
              "    </tr>\n",
              "    <tr>\n",
              "      <th>8</th>\n",
              "      <td>8</td>\n",
              "      <td>0.010</td>\n",
              "    </tr>\n",
              "    <tr>\n",
              "      <th>9</th>\n",
              "      <td>9</td>\n",
              "      <td>0.010</td>\n",
              "    </tr>\n",
              "  </tbody>\n",
              "</table>\n",
              "</div>\n",
              "    <div class=\"colab-df-buttons\">\n",
              "\n",
              "  <div class=\"colab-df-container\">\n",
              "    <button class=\"colab-df-convert\" onclick=\"convertToInteractive('df-49238c35-1d70-41ad-87f7-e3e34a3ce8f5')\"\n",
              "            title=\"Convert this dataframe to an interactive table.\"\n",
              "            style=\"display:none;\">\n",
              "\n",
              "  <svg xmlns=\"http://www.w3.org/2000/svg\" height=\"24px\" viewBox=\"0 -960 960 960\">\n",
              "    <path d=\"M120-120v-720h720v720H120Zm60-500h600v-160H180v160Zm220 220h160v-160H400v160Zm0 220h160v-160H400v160ZM180-400h160v-160H180v160Zm440 0h160v-160H620v160ZM180-180h160v-160H180v160Zm440 0h160v-160H620v160Z\"/>\n",
              "  </svg>\n",
              "    </button>\n",
              "\n",
              "  <style>\n",
              "    .colab-df-container {\n",
              "      display:flex;\n",
              "      gap: 12px;\n",
              "    }\n",
              "\n",
              "    .colab-df-convert {\n",
              "      background-color: #E8F0FE;\n",
              "      border: none;\n",
              "      border-radius: 50%;\n",
              "      cursor: pointer;\n",
              "      display: none;\n",
              "      fill: #1967D2;\n",
              "      height: 32px;\n",
              "      padding: 0 0 0 0;\n",
              "      width: 32px;\n",
              "    }\n",
              "\n",
              "    .colab-df-convert:hover {\n",
              "      background-color: #E2EBFA;\n",
              "      box-shadow: 0px 1px 2px rgba(60, 64, 67, 0.3), 0px 1px 3px 1px rgba(60, 64, 67, 0.15);\n",
              "      fill: #174EA6;\n",
              "    }\n",
              "\n",
              "    .colab-df-buttons div {\n",
              "      margin-bottom: 4px;\n",
              "    }\n",
              "\n",
              "    [theme=dark] .colab-df-convert {\n",
              "      background-color: #3B4455;\n",
              "      fill: #D2E3FC;\n",
              "    }\n",
              "\n",
              "    [theme=dark] .colab-df-convert:hover {\n",
              "      background-color: #434B5C;\n",
              "      box-shadow: 0px 1px 3px 1px rgba(0, 0, 0, 0.15);\n",
              "      filter: drop-shadow(0px 1px 2px rgba(0, 0, 0, 0.3));\n",
              "      fill: #FFFFFF;\n",
              "    }\n",
              "  </style>\n",
              "\n",
              "    <script>\n",
              "      const buttonEl =\n",
              "        document.querySelector('#df-49238c35-1d70-41ad-87f7-e3e34a3ce8f5 button.colab-df-convert');\n",
              "      buttonEl.style.display =\n",
              "        google.colab.kernel.accessAllowed ? 'block' : 'none';\n",
              "\n",
              "      async function convertToInteractive(key) {\n",
              "        const element = document.querySelector('#df-49238c35-1d70-41ad-87f7-e3e34a3ce8f5');\n",
              "        const dataTable =\n",
              "          await google.colab.kernel.invokeFunction('convertToInteractive',\n",
              "                                                    [key], {});\n",
              "        if (!dataTable) return;\n",
              "\n",
              "        const docLinkHtml = 'Like what you see? Visit the ' +\n",
              "          '<a target=\"_blank\" href=https://colab.research.google.com/notebooks/data_table.ipynb>data table notebook</a>'\n",
              "          + ' to learn more about interactive tables.';\n",
              "        element.innerHTML = '';\n",
              "        dataTable['output_type'] = 'display_data';\n",
              "        await google.colab.output.renderOutput(dataTable, element);\n",
              "        const docLink = document.createElement('div');\n",
              "        docLink.innerHTML = docLinkHtml;\n",
              "        element.appendChild(docLink);\n",
              "      }\n",
              "    </script>\n",
              "  </div>\n",
              "\n",
              "\n",
              "<div id=\"df-f1b7a63e-f690-4754-925e-9bc7ae0852f5\">\n",
              "  <button class=\"colab-df-quickchart\" onclick=\"quickchart('df-f1b7a63e-f690-4754-925e-9bc7ae0852f5')\"\n",
              "            title=\"Suggest charts\"\n",
              "            style=\"display:none;\">\n",
              "\n",
              "<svg xmlns=\"http://www.w3.org/2000/svg\" height=\"24px\"viewBox=\"0 0 24 24\"\n",
              "     width=\"24px\">\n",
              "    <g>\n",
              "        <path d=\"M19 3H5c-1.1 0-2 .9-2 2v14c0 1.1.9 2 2 2h14c1.1 0 2-.9 2-2V5c0-1.1-.9-2-2-2zM9 17H7v-7h2v7zm4 0h-2V7h2v10zm4 0h-2v-4h2v4z\"/>\n",
              "    </g>\n",
              "</svg>\n",
              "  </button>\n",
              "\n",
              "<style>\n",
              "  .colab-df-quickchart {\n",
              "      --bg-color: #E8F0FE;\n",
              "      --fill-color: #1967D2;\n",
              "      --hover-bg-color: #E2EBFA;\n",
              "      --hover-fill-color: #174EA6;\n",
              "      --disabled-fill-color: #AAA;\n",
              "      --disabled-bg-color: #DDD;\n",
              "  }\n",
              "\n",
              "  [theme=dark] .colab-df-quickchart {\n",
              "      --bg-color: #3B4455;\n",
              "      --fill-color: #D2E3FC;\n",
              "      --hover-bg-color: #434B5C;\n",
              "      --hover-fill-color: #FFFFFF;\n",
              "      --disabled-bg-color: #3B4455;\n",
              "      --disabled-fill-color: #666;\n",
              "  }\n",
              "\n",
              "  .colab-df-quickchart {\n",
              "    background-color: var(--bg-color);\n",
              "    border: none;\n",
              "    border-radius: 50%;\n",
              "    cursor: pointer;\n",
              "    display: none;\n",
              "    fill: var(--fill-color);\n",
              "    height: 32px;\n",
              "    padding: 0;\n",
              "    width: 32px;\n",
              "  }\n",
              "\n",
              "  .colab-df-quickchart:hover {\n",
              "    background-color: var(--hover-bg-color);\n",
              "    box-shadow: 0 1px 2px rgba(60, 64, 67, 0.3), 0 1px 3px 1px rgba(60, 64, 67, 0.15);\n",
              "    fill: var(--button-hover-fill-color);\n",
              "  }\n",
              "\n",
              "  .colab-df-quickchart-complete:disabled,\n",
              "  .colab-df-quickchart-complete:disabled:hover {\n",
              "    background-color: var(--disabled-bg-color);\n",
              "    fill: var(--disabled-fill-color);\n",
              "    box-shadow: none;\n",
              "  }\n",
              "\n",
              "  .colab-df-spinner {\n",
              "    border: 2px solid var(--fill-color);\n",
              "    border-color: transparent;\n",
              "    border-bottom-color: var(--fill-color);\n",
              "    animation:\n",
              "      spin 1s steps(1) infinite;\n",
              "  }\n",
              "\n",
              "  @keyframes spin {\n",
              "    0% {\n",
              "      border-color: transparent;\n",
              "      border-bottom-color: var(--fill-color);\n",
              "      border-left-color: var(--fill-color);\n",
              "    }\n",
              "    20% {\n",
              "      border-color: transparent;\n",
              "      border-left-color: var(--fill-color);\n",
              "      border-top-color: var(--fill-color);\n",
              "    }\n",
              "    30% {\n",
              "      border-color: transparent;\n",
              "      border-left-color: var(--fill-color);\n",
              "      border-top-color: var(--fill-color);\n",
              "      border-right-color: var(--fill-color);\n",
              "    }\n",
              "    40% {\n",
              "      border-color: transparent;\n",
              "      border-right-color: var(--fill-color);\n",
              "      border-top-color: var(--fill-color);\n",
              "    }\n",
              "    60% {\n",
              "      border-color: transparent;\n",
              "      border-right-color: var(--fill-color);\n",
              "    }\n",
              "    80% {\n",
              "      border-color: transparent;\n",
              "      border-right-color: var(--fill-color);\n",
              "      border-bottom-color: var(--fill-color);\n",
              "    }\n",
              "    90% {\n",
              "      border-color: transparent;\n",
              "      border-bottom-color: var(--fill-color);\n",
              "    }\n",
              "  }\n",
              "</style>\n",
              "\n",
              "  <script>\n",
              "    async function quickchart(key) {\n",
              "      const quickchartButtonEl =\n",
              "        document.querySelector('#' + key + ' button');\n",
              "      quickchartButtonEl.disabled = true;  // To prevent multiple clicks.\n",
              "      quickchartButtonEl.classList.add('colab-df-spinner');\n",
              "      try {\n",
              "        const charts = await google.colab.kernel.invokeFunction(\n",
              "            'suggestCharts', [key], {});\n",
              "      } catch (error) {\n",
              "        console.error('Error during call to suggestCharts:', error);\n",
              "      }\n",
              "      quickchartButtonEl.classList.remove('colab-df-spinner');\n",
              "      quickchartButtonEl.classList.add('colab-df-quickchart-complete');\n",
              "    }\n",
              "    (() => {\n",
              "      let quickchartButtonEl =\n",
              "        document.querySelector('#df-f1b7a63e-f690-4754-925e-9bc7ae0852f5 button');\n",
              "      quickchartButtonEl.style.display =\n",
              "        google.colab.kernel.accessAllowed ? 'block' : 'none';\n",
              "    })();\n",
              "  </script>\n",
              "</div>\n",
              "\n",
              "  <div id=\"id_8cc8ff9e-5143-4c47-af55-8536b4ae996a\">\n",
              "    <style>\n",
              "      .colab-df-generate {\n",
              "        background-color: #E8F0FE;\n",
              "        border: none;\n",
              "        border-radius: 50%;\n",
              "        cursor: pointer;\n",
              "        display: none;\n",
              "        fill: #1967D2;\n",
              "        height: 32px;\n",
              "        padding: 0 0 0 0;\n",
              "        width: 32px;\n",
              "      }\n",
              "\n",
              "      .colab-df-generate:hover {\n",
              "        background-color: #E2EBFA;\n",
              "        box-shadow: 0px 1px 2px rgba(60, 64, 67, 0.3), 0px 1px 3px 1px rgba(60, 64, 67, 0.15);\n",
              "        fill: #174EA6;\n",
              "      }\n",
              "\n",
              "      [theme=dark] .colab-df-generate {\n",
              "        background-color: #3B4455;\n",
              "        fill: #D2E3FC;\n",
              "      }\n",
              "\n",
              "      [theme=dark] .colab-df-generate:hover {\n",
              "        background-color: #434B5C;\n",
              "        box-shadow: 0px 1px 3px 1px rgba(0, 0, 0, 0.15);\n",
              "        filter: drop-shadow(0px 1px 2px rgba(0, 0, 0, 0.3));\n",
              "        fill: #FFFFFF;\n",
              "      }\n",
              "    </style>\n",
              "    <button class=\"colab-df-generate\" onclick=\"generateWithVariable('df17')\"\n",
              "            title=\"Generate code using this dataframe.\"\n",
              "            style=\"display:none;\">\n",
              "\n",
              "  <svg xmlns=\"http://www.w3.org/2000/svg\" height=\"24px\"viewBox=\"0 0 24 24\"\n",
              "       width=\"24px\">\n",
              "    <path d=\"M7,19H8.4L18.45,9,17,7.55,7,17.6ZM5,21V16.75L18.45,3.32a2,2,0,0,1,2.83,0l1.4,1.43a1.91,1.91,0,0,1,.58,1.4,1.91,1.91,0,0,1-.58,1.4L9.25,21ZM18.45,9,17,7.55Zm-12,3A5.31,5.31,0,0,0,4.9,8.1,5.31,5.31,0,0,0,1,6.5,5.31,5.31,0,0,0,4.9,4.9,5.31,5.31,0,0,0,6.5,1,5.31,5.31,0,0,0,8.1,4.9,5.31,5.31,0,0,0,12,6.5,5.46,5.46,0,0,0,6.5,12Z\"/>\n",
              "  </svg>\n",
              "    </button>\n",
              "    <script>\n",
              "      (() => {\n",
              "      const buttonEl =\n",
              "        document.querySelector('#id_8cc8ff9e-5143-4c47-af55-8536b4ae996a button.colab-df-generate');\n",
              "      buttonEl.style.display =\n",
              "        google.colab.kernel.accessAllowed ? 'block' : 'none';\n",
              "\n",
              "      buttonEl.onclick = () => {\n",
              "        google.colab.notebook.generateWithVariable('df17');\n",
              "      }\n",
              "      })();\n",
              "    </script>\n",
              "  </div>\n",
              "\n",
              "    </div>\n",
              "  </div>\n"
            ],
            "application/vnd.google.colaboratory.intrinsic+json": {
              "type": "dataframe",
              "variable_name": "df17",
              "summary": "{\n  \"name\": \"df17\",\n  \"rows\": 10,\n  \"fields\": [\n    {\n      \"column\": \"x\",\n      \"properties\": {\n        \"dtype\": \"number\",\n        \"std\": 3,\n        \"min\": 0,\n        \"max\": 9,\n        \"num_unique_values\": 10,\n        \"samples\": [\n          8,\n          1,\n          5\n        ],\n        \"semantic_type\": \"\",\n        \"description\": \"\"\n      }\n    },\n    {\n      \"column\": \"P(x)\",\n      \"properties\": {\n        \"dtype\": \"number\",\n        \"std\": 0.0924481836850604,\n        \"min\": 0.0,\n        \"max\": 0.261,\n        \"num_unique_values\": 9,\n        \"samples\": [\n          0.025,\n          0.161,\n          0.116\n        ],\n        \"semantic_type\": \"\",\n        \"description\": \"\"\n      }\n    }\n  ]\n}"
            }
          },
          "metadata": {},
          "execution_count": 3
        }
      ]
    },
    {
      "cell_type": "markdown",
      "source": [
        "**(a) Verify this is a discrete probability distribution.**\n",
        "\n",
        "*`Answer: Each probability is between 0 and 1, inclusive, and the sum of the probabilities equals 1.`*"
      ],
      "metadata": {
        "id": "wX7ckPP2VZLw"
      }
    },
    {
      "cell_type": "markdown",
      "source": [
        "**(b) Draw a probability histogram.**"
      ],
      "metadata": {
        "id": "Py_dgQ-oVgR8"
      }
    },
    {
      "cell_type": "code",
      "source": [
        "import matplotlib.pyplot as plt\n",
        "plt.bar(df17['x'], df17['P(x)'])\n",
        "plt.show()"
      ],
      "metadata": {
        "colab": {
          "base_uri": "https://localhost:8080/",
          "height": 430
        },
        "id": "39vTBeylW9QH",
        "outputId": "804b9110-4529-40ff-b4e0-c6c7a5f88683"
      },
      "execution_count": 4,
      "outputs": [
        {
          "output_type": "display_data",
          "data": {
            "text/plain": [
              "<Figure size 640x480 with 1 Axes>"
            ],
            "image/png": "[encoded data removed]"
          },
          "metadata": {}
        }
      ]
    },
    {
      "cell_type": "markdown",
      "source": [
        "**(c) Determine and interpret the mean of the random variable X.**"
      ],
      "metadata": {
        "id": "ea0mEsAOViqd"
      }
    },
    {
      "cell_type": "code",
      "source": [
        "X_mean = sum(df17['x']* df17['P(x)'])\n",
        "print(f\"μ_x = {X_mean} \\nInterpret: If we surveyed many households, we would expect the mean number of televisions per household to be {X_mean}\")"
      ],
      "metadata": {
        "colab": {
          "base_uri": "https://localhost:8080/",
          "height": 0
        },
        "id": "a7RN7R0YXEdC",
        "outputId": "c18c1f5d-fb78-4f59-f1ab-84386465858c"
      },
      "execution_count": 16,
      "outputs": [
        {
          "output_type": "stream",
          "name": "stdout",
          "text": [
            "μ_x = 3.21 \n",
            "Interpret: If we surveyed many households, we would expect the mean number of televisions per household to be 3.21\n"
          ]
        }
      ]
    },
    {
      "cell_type": "markdown",
      "source": [
        "**(d) Determine the standard deviation of the random variable X.**"
      ],
      "metadata": {
        "id": "yOfAiGe9Vkev"
      }
    },
    {
      "cell_type": "code",
      "source": [
        "X_std = (sum((df17['x'] - X_mean)**2 * df17['P(x)']))**0.5\n",
        "X_std"
      ],
      "metadata": {
        "colab": {
          "base_uri": "https://localhost:8080/",
          "height": 0
        },
        "id": "3LxPp6BZZunK",
        "outputId": "f3456ae0-7f5d-4c33-98d2-5dda8d1c34e5"
      },
      "execution_count": 17,
      "outputs": [
        {
          "output_type": "execute_result",
          "data": {
            "text/plain": [
              "1.7366346766087566"
            ]
          },
          "metadata": {},
          "execution_count": 17
        }
      ]
    },
    {
      "cell_type": "markdown",
      "source": [
        "**(e) What is the probability that a randomly selected household has three televisions?**"
      ],
      "metadata": {
        "id": "Q2MuZTj3VmAb"
      }
    },
    {
      "cell_type": "code",
      "source": [
        "p3 = df17['P(x)'][3]\n",
        "print(f\"P(x = 3) = {p3}\")"
      ],
      "metadata": {
        "colab": {
          "base_uri": "https://localhost:8080/",
          "height": 0
        },
        "id": "pDUKkHQnaRbo",
        "outputId": "de0ea6d1-0665-457b-ce52-1f73f6477ace"
      },
      "execution_count": 18,
      "outputs": [
        {
          "output_type": "stream",
          "name": "stdout",
          "text": [
            "P(x = 3) = 0.176\n"
          ]
        }
      ]
    },
    {
      "cell_type": "markdown",
      "source": [
        "**(f ) What is the probability that a randomly selected household has three or four televisions?**"
      ],
      "metadata": {
        "id": "8gDgWRoKVnaK"
      }
    },
    {
      "cell_type": "code",
      "source": [
        "p34 = df17['P(x)'][3] + df17['P(x)'][4]\n",
        "print(f\"P(x = 3 or 4) = {p34}\")"
      ],
      "metadata": {
        "colab": {
          "base_uri": "https://localhost:8080/",
          "height": 0
        },
        "id": "wew0CkDTaoa3",
        "outputId": "45a5fcbb-096c-4216-c352-01fbfdbd4990"
      },
      "execution_count": 19,
      "outputs": [
        {
          "output_type": "stream",
          "name": "stdout",
          "text": [
            "P(x = 3 or 4) = 0.362\n"
          ]
        }
      ]
    },
    {
      "cell_type": "markdown",
      "source": [
        "**(g) What is the probability that a randomly selected household has no televisions? Would you consider this to be an impossible event?**"
      ],
      "metadata": {
        "id": "TV6ErBM8Vo7F"
      }
    },
    {
      "cell_type": "code",
      "execution_count": 22,
      "metadata": {
        "colab": {
          "base_uri": "https://localhost:8080/",
          "height": 0
        },
        "id": "2rxhCEojUbYD",
        "outputId": "63d09a9c-fb78-47be-a22d-699f164545fc"
      },
      "outputs": [
        {
          "output_type": "stream",
          "name": "stdout",
          "text": [
            "P(x = 0) = 0 \n",
            "This is an impossoble event\n"
          ]
        }
      ],
      "source": [
        "p0 = df17['P(x)'][0]\n",
        "print(f\"P(x = 0) = {int(p0)} \\nThis is an impossoble event\")"
      ]
    },
    {
      "cell_type": "markdown",
      "source": [
        "## 29/332\n",
        "\n",
        "An investment counselor calls with a hot stock tip.\n",
        "He believes that if the economy remains strong, the investment will\n",
        "result in a profit of $$50,000. If the economy grows at a moderate\n",
        "pace, the investment will result in a profit of $10,000. However, if\n",
        "the economy goes into recession, the investment will result in a loss\n",
        "of $50,000. You contact an economist who believes there is a 20%\n",
        "probability the economy will remain strong, a 70% probability the\n",
        "economy will grow at a moderate pace, and a 10% probability the\n",
        "economy will slip into recession. What is the expected profit from\n",
        "this investment?\n"
      ],
      "metadata": {
        "id": "byxmqznObLv2"
      }
    },
    {
      "cell_type": "code",
      "source": [
        "df29 = pd.DataFrame({\n",
        "    'Economy Growth': [\"Strong\", \"Moderate\", \"Recession\"],\n",
        "    'Probability': [0.2, 0.7, 0.1],\n",
        "    'Profit': [50000, 10000, -50000]\n",
        "})\n",
        "df29"
      ],
      "metadata": {
        "colab": {
          "base_uri": "https://localhost:8080/",
          "height": 143
        },
        "id": "L-ZrNr_cbpRz",
        "outputId": "95a7ec90-4106-470c-f001-8d4f2712342e"
      },
      "execution_count": 31,
      "outputs": [
        {
          "output_type": "execute_result",
          "data": {
            "text/plain": [
              "  Economy Growth  Probability  Profit\n",
              "0         Strong          0.2   50000\n",
              "1       Moderate          0.7   10000\n",
              "2      Recession          0.1  -50000"
            ],
            "text/html": [
              "\n",
              "  <div id=\"df-2dace519-26d8-4888-b707-486cf1081d26\" class=\"colab-df-container\">\n",
              "    <div>\n",
              "<style scoped>\n",
              "    .dataframe tbody tr th:only-of-type {\n",
              "        vertical-align: middle;\n",
              "    }\n",
              "\n",
              "    .dataframe tbody tr th {\n",
              "        vertical-align: top;\n",
              "    }\n",
              "\n",
              "    .dataframe thead th {\n",
              "        text-align: right;\n",
              "    }\n",
              "</style>\n",
              "<table border=\"1\" class=\"dataframe\">\n",
              "  <thead>\n",
              "    <tr style=\"text-align: right;\">\n",
              "      <th></th>\n",
              "      <th>Economy Growth</th>\n",
              "      <th>Probability</th>\n",
              "      <th>Profit</th>\n",
              "    </tr>\n",
              "  </thead>\n",
              "  <tbody>\n",
              "    <tr>\n",
              "      <th>0</th>\n",
              "      <td>Strong</td>\n",
              "      <td>0.2</td>\n",
              "      <td>50000</td>\n",
              "    </tr>\n",
              "    <tr>\n",
              "      <th>1</th>\n",
              "      <td>Moderate</td>\n",
              "      <td>0.7</td>\n",
              "      <td>10000</td>\n",
              "    </tr>\n",
              "    <tr>\n",
              "      <th>2</th>\n",
              "      <td>Recession</td>\n",
              "      <td>0.1</td>\n",
              "      <td>-50000</td>\n",
              "    </tr>\n",
              "  </tbody>\n",
              "</table>\n",
              "</div>\n",
              "    <div class=\"colab-df-buttons\">\n",
              "\n",
              "  <div class=\"colab-df-container\">\n",
              "    <button class=\"colab-df-convert\" onclick=\"convertToInteractive('df-2dace519-26d8-4888-b707-486cf1081d26')\"\n",
              "            title=\"Convert this dataframe to an interactive table.\"\n",
              "            style=\"display:none;\">\n",
              "\n",
              "  <svg xmlns=\"http://www.w3.org/2000/svg\" height=\"24px\" viewBox=\"0 -960 960 960\">\n",
              "    <path d=\"M120-120v-720h720v720H120Zm60-500h600v-160H180v160Zm220 220h160v-160H400v160Zm0 220h160v-160H400v160ZM180-400h160v-160H180v160Zm440 0h160v-160H620v160ZM180-180h160v-160H180v160Zm440 0h160v-160H620v160Z\"/>\n",
              "  </svg>\n",
              "    </button>\n",
              "\n",
              "  <style>\n",
              "    .colab-df-container {\n",
              "      display:flex;\n",
              "      gap: 12px;\n",
              "    }\n",
              "\n",
              "    .colab-df-convert {\n",
              "      background-color: #E8F0FE;\n",
              "      border: none;\n",
              "      border-radius: 50%;\n",
              "      cursor: pointer;\n",
              "      display: none;\n",
              "      fill: #1967D2;\n",
              "      height: 32px;\n",
              "      padding: 0 0 0 0;\n",
              "      width: 32px;\n",
              "    }\n",
              "\n",
              "    .colab-df-convert:hover {\n",
              "      background-color: #E2EBFA;\n",
              "      box-shadow: 0px 1px 2px rgba(60, 64, 67, 0.3), 0px 1px 3px 1px rgba(60, 64, 67, 0.15);\n",
              "      fill: #174EA6;\n",
              "    }\n",
              "\n",
              "    .colab-df-buttons div {\n",
              "      margin-bottom: 4px;\n",
              "    }\n",
              "\n",
              "    [theme=dark] .colab-df-convert {\n",
              "      background-color: #3B4455;\n",
              "      fill: #D2E3FC;\n",
              "    }\n",
              "\n",
              "    [theme=dark] .colab-df-convert:hover {\n",
              "      background-color: #434B5C;\n",
              "      box-shadow: 0px 1px 3px 1px rgba(0, 0, 0, 0.15);\n",
              "      filter: drop-shadow(0px 1px 2px rgba(0, 0, 0, 0.3));\n",
              "      fill: #FFFFFF;\n",
              "    }\n",
              "  </style>\n",
              "\n",
              "    <script>\n",
              "      const buttonEl =\n",
              "        document.querySelector('#df-2dace519-26d8-4888-b707-486cf1081d26 button.colab-df-convert');\n",
              "      buttonEl.style.display =\n",
              "        google.colab.kernel.accessAllowed ? 'block' : 'none';\n",
              "\n",
              "      async function convertToInteractive(key) {\n",
              "        const element = document.querySelector('#df-2dace519-26d8-4888-b707-486cf1081d26');\n",
              "        const dataTable =\n",
              "          await google.colab.kernel.invokeFunction('convertToInteractive',\n",
              "                                                    [key], {});\n",
              "        if (!dataTable) return;\n",
              "\n",
              "        const docLinkHtml = 'Like what you see? Visit the ' +\n",
              "          '<a target=\"_blank\" href=https://colab.research.google.com/notebooks/data_table.ipynb>data table notebook</a>'\n",
              "          + ' to learn more about interactive tables.';\n",
              "        element.innerHTML = '';\n",
              "        dataTable['output_type'] = 'display_data';\n",
              "        await google.colab.output.renderOutput(dataTable, element);\n",
              "        const docLink = document.createElement('div');\n",
              "        docLink.innerHTML = docLinkHtml;\n",
              "        element.appendChild(docLink);\n",
              "      }\n",
              "    </script>\n",
              "  </div>\n",
              "\n",
              "\n",
              "<div id=\"df-c1cf92ef-6945-4352-92fa-ff8fe740bde9\">\n",
              "  <button class=\"colab-df-quickchart\" onclick=\"quickchart('df-c1cf92ef-6945-4352-92fa-ff8fe740bde9')\"\n",
              "            title=\"Suggest charts\"\n",
              "            style=\"display:none;\">\n",
              "\n",
              "<svg xmlns=\"http://www.w3.org/2000/svg\" height=\"24px\"viewBox=\"0 0 24 24\"\n",
              "     width=\"24px\">\n",
              "    <g>\n",
              "        <path d=\"M19 3H5c-1.1 0-2 .9-2 2v14c0 1.1.9 2 2 2h14c1.1 0 2-.9 2-2V5c0-1.1-.9-2-2-2zM9 17H7v-7h2v7zm4 0h-2V7h2v10zm4 0h-2v-4h2v4z\"/>\n",
              "    </g>\n",
              "</svg>\n",
              "  </button>\n",
              "\n",
              "<style>\n",
              "  .colab-df-quickchart {\n",
              "      --bg-color: #E8F0FE;\n",
              "      --fill-color: #1967D2;\n",
              "      --hover-bg-color: #E2EBFA;\n",
              "      --hover-fill-color: #174EA6;\n",
              "      --disabled-fill-color: #AAA;\n",
              "      --disabled-bg-color: #DDD;\n",
              "  }\n",
              "\n",
              "  [theme=dark] .colab-df-quickchart {\n",
              "      --bg-color: #3B4455;\n",
              "      --fill-color: #D2E3FC;\n",
              "      --hover-bg-color: #434B5C;\n",
              "      --hover-fill-color: #FFFFFF;\n",
              "      --disabled-bg-color: #3B4455;\n",
              "      --disabled-fill-color: #666;\n",
              "  }\n",
              "\n",
              "  .colab-df-quickchart {\n",
              "    background-color: var(--bg-color);\n",
              "    border: none;\n",
              "    border-radius: 50%;\n",
              "    cursor: pointer;\n",
              "    display: none;\n",
              "    fill: var(--fill-color);\n",
              "    height: 32px;\n",
              "    padding: 0;\n",
              "    width: 32px;\n",
              "  }\n",
              "\n",
              "  .colab-df-quickchart:hover {\n",
              "    background-color: var(--hover-bg-color);\n",
              "    box-shadow: 0 1px 2px rgba(60, 64, 67, 0.3), 0 1px 3px 1px rgba(60, 64, 67, 0.15);\n",
              "    fill: var(--button-hover-fill-color);\n",
              "  }\n",
              "\n",
              "  .colab-df-quickchart-complete:disabled,\n",
              "  .colab-df-quickchart-complete:disabled:hover {\n",
              "    background-color: var(--disabled-bg-color);\n",
              "    fill: var(--disabled-fill-color);\n",
              "    box-shadow: none;\n",
              "  }\n",
              "\n",
              "  .colab-df-spinner {\n",
              "    border: 2px solid var(--fill-color);\n",
              "    border-color: transparent;\n",
              "    border-bottom-color: var(--fill-color);\n",
              "    animation:\n",
              "      spin 1s steps(1) infinite;\n",
              "  }\n",
              "\n",
              "  @keyframes spin {\n",
              "    0% {\n",
              "      border-color: transparent;\n",
              "      border-bottom-color: var(--fill-color);\n",
              "      border-left-color: var(--fill-color);\n",
              "    }\n",
              "    20% {\n",
              "      border-color: transparent;\n",
              "      border-left-color: var(--fill-color);\n",
              "      border-top-color: var(--fill-color);\n",
              "    }\n",
              "    30% {\n",
              "      border-color: transparent;\n",
              "      border-left-color: var(--fill-color);\n",
              "      border-top-color: var(--fill-color);\n",
              "      border-right-color: var(--fill-color);\n",
              "    }\n",
              "    40% {\n",
              "      border-color: transparent;\n",
              "      border-right-color: var(--fill-color);\n",
              "      border-top-color: var(--fill-color);\n",
              "    }\n",
              "    60% {\n",
              "      border-color: transparent;\n",
              "      border-right-color: var(--fill-color);\n",
              "    }\n",
              "    80% {\n",
              "      border-color: transparent;\n",
              "      border-right-color: var(--fill-color);\n",
              "      border-bottom-color: var(--fill-color);\n",
              "    }\n",
              "    90% {\n",
              "      border-color: transparent;\n",
              "      border-bottom-color: var(--fill-color);\n",
              "    }\n",
              "  }\n",
              "</style>\n",
              "\n",
              "  <script>\n",
              "    async function quickchart(key) {\n",
              "      const quickchartButtonEl =\n",
              "        document.querySelector('#' + key + ' button');\n",
              "      quickchartButtonEl.disabled = true;  // To prevent multiple clicks.\n",
              "      quickchartButtonEl.classList.add('colab-df-spinner');\n",
              "      try {\n",
              "        const charts = await google.colab.kernel.invokeFunction(\n",
              "            'suggestCharts', [key], {});\n",
              "      } catch (error) {\n",
              "        console.error('Error during call to suggestCharts:', error);\n",
              "      }\n",
              "      quickchartButtonEl.classList.remove('colab-df-spinner');\n",
              "      quickchartButtonEl.classList.add('colab-df-quickchart-complete');\n",
              "    }\n",
              "    (() => {\n",
              "      let quickchartButtonEl =\n",
              "        document.querySelector('#df-c1cf92ef-6945-4352-92fa-ff8fe740bde9 button');\n",
              "      quickchartButtonEl.style.display =\n",
              "        google.colab.kernel.accessAllowed ? 'block' : 'none';\n",
              "    })();\n",
              "  </script>\n",
              "</div>\n",
              "\n",
              "  <div id=\"id_a225bec6-5668-4e2f-bbea-47546f9724e2\">\n",
              "    <style>\n",
              "      .colab-df-generate {\n",
              "        background-color: #E8F0FE;\n",
              "        border: none;\n",
              "        border-radius: 50%;\n",
              "        cursor: pointer;\n",
              "        display: none;\n",
              "        fill: #1967D2;\n",
              "        height: 32px;\n",
              "        padding: 0 0 0 0;\n",
              "        width: 32px;\n",
              "      }\n",
              "\n",
              "      .colab-df-generate:hover {\n",
              "        background-color: #E2EBFA;\n",
              "        box-shadow: 0px 1px 2px rgba(60, 64, 67, 0.3), 0px 1px 3px 1px rgba(60, 64, 67, 0.15);\n",
              "        fill: #174EA6;\n",
              "      }\n",
              "\n",
              "      [theme=dark] .colab-df-generate {\n",
              "        background-color: #3B4455;\n",
              "        fill: #D2E3FC;\n",
              "      }\n",
              "\n",
              "      [theme=dark] .colab-df-generate:hover {\n",
              "        background-color: #434B5C;\n",
              "        box-shadow: 0px 1px 3px 1px rgba(0, 0, 0, 0.15);\n",
              "        filter: drop-shadow(0px 1px 2px rgba(0, 0, 0, 0.3));\n",
              "        fill: #FFFFFF;\n",
              "      }\n",
              "    </style>\n",
              "    <button class=\"colab-df-generate\" onclick=\"generateWithVariable('df29')\"\n",
              "            title=\"Generate code using this dataframe.\"\n",
              "            style=\"display:none;\">\n",
              "\n",
              "  <svg xmlns=\"http://www.w3.org/2000/svg\" height=\"24px\"viewBox=\"0 0 24 24\"\n",
              "       width=\"24px\">\n",
              "    <path d=\"M7,19H8.4L18.45,9,17,7.55,7,17.6ZM5,21V16.75L18.45,3.32a2,2,0,0,1,2.83,0l1.4,1.43a1.91,1.91,0,0,1,.58,1.4,1.91,1.91,0,0,1-.58,1.4L9.25,21ZM18.45,9,17,7.55Zm-12,3A5.31,5.31,0,0,0,4.9,8.1,5.31,5.31,0,0,0,1,6.5,5.31,5.31,0,0,0,4.9,4.9,5.31,5.31,0,0,0,6.5,1,5.31,5.31,0,0,0,8.1,4.9,5.31,5.31,0,0,0,12,6.5,5.46,5.46,0,0,0,6.5,12Z\"/>\n",
              "  </svg>\n",
              "    </button>\n",
              "    <script>\n",
              "      (() => {\n",
              "      const buttonEl =\n",
              "        document.querySelector('#id_a225bec6-5668-4e2f-bbea-47546f9724e2 button.colab-df-generate');\n",
              "      buttonEl.style.display =\n",
              "        google.colab.kernel.accessAllowed ? 'block' : 'none';\n",
              "\n",
              "      buttonEl.onclick = () => {\n",
              "        google.colab.notebook.generateWithVariable('df29');\n",
              "      }\n",
              "      })();\n",
              "    </script>\n",
              "  </div>\n",
              "\n",
              "    </div>\n",
              "  </div>\n"
            ],
            "application/vnd.google.colaboratory.intrinsic+json": {
              "type": "dataframe",
              "variable_name": "df29",
              "summary": "{\n  \"name\": \"df29\",\n  \"rows\": 3,\n  \"fields\": [\n    {\n      \"column\": \"Economy Growth\",\n      \"properties\": {\n        \"dtype\": \"string\",\n        \"num_unique_values\": 3,\n        \"samples\": [\n          \"Strong\",\n          \"Moderate\",\n          \"Recession\"\n        ],\n        \"semantic_type\": \"\",\n        \"description\": \"\"\n      }\n    },\n    {\n      \"column\": \"Probability\",\n      \"properties\": {\n        \"dtype\": \"number\",\n        \"std\": 0.32145502536643183,\n        \"min\": 0.1,\n        \"max\": 0.7,\n        \"num_unique_values\": 3,\n        \"samples\": [\n          0.2,\n          0.7,\n          0.1\n        ],\n        \"semantic_type\": \"\",\n        \"description\": \"\"\n      }\n    },\n    {\n      \"column\": \"Profit\",\n      \"properties\": {\n        \"dtype\": \"number\",\n        \"std\": 50332,\n        \"min\": -50000,\n        \"max\": 50000,\n        \"num_unique_values\": 3,\n        \"samples\": [\n          50000,\n          10000,\n          -50000\n        ],\n        \"semantic_type\": \"\",\n        \"description\": \"\"\n      }\n    }\n  ]\n}"
            }
          },
          "metadata": {},
          "execution_count": 31
        }
      ]
    },
    {
      "cell_type": "code",
      "source": [
        "expected_profit = sum(df29['Profit'] * df29['Probability'])\n",
        "print(f\"The expected profit is ${int(expected_profit)}\")"
      ],
      "metadata": {
        "colab": {
          "base_uri": "https://localhost:8080/",
          "height": 0
        },
        "id": "tF2H6Z7jcQtT",
        "outputId": "e00c4ef4-b7a2-49a1-d80a-4dca25f68799"
      },
      "execution_count": 29,
      "outputs": [
        {
          "output_type": "stream",
          "name": "stdout",
          "text": [
            "The expected profit is $12000\n"
          ]
        }
      ]
    },
    {
      "cell_type": "markdown",
      "source": [
        "## 31/332\n",
        "\n",
        "In the Cash Five Lottery in Connecticut,\n",
        "a player pays $1 dollar$ for a single ticket with five numbers. Five balls\n",
        "numbered 1 through 35 are randomly chosen from a bin without\n",
        "replacement. If all five numbers on a player’s ticket match the five\n",
        "chosen, the player wins $100,000 dollars$. The probability of this occurring\n",
        "is $\\frac{1}{324,632}$. If four numbers match, the player wins $300 dollars$. This occurs with probability $\\frac{1}{2164}$. If three numbers match, the player\n",
        "wins $10 dollars$. This occurs with probability $\\frac{1}{75}$. Compute and interpret the expected value of the game from the player’s point of view."
      ],
      "metadata": {
        "id": "IxFSqGIadGa6"
      }
    },
    {
      "cell_type": "code",
      "source": [
        "df31 = pd.DataFrame({\n",
        "    'Matched numbers': [\"5\", \"4\", \"3\"],\n",
        "    'Probability': [1/324632, 1/2164, 1/75],\n",
        "    'Prize': [100000, 300, 10]\n",
        "})\n",
        "df31"
      ],
      "metadata": {
        "colab": {
          "base_uri": "https://localhost:8080/",
          "height": 143
        },
        "id": "tC4gNfOZe57_",
        "outputId": "4f57676d-2066-4480-bf23-ed812b9879db"
      },
      "execution_count": 33,
      "outputs": [
        {
          "output_type": "execute_result",
          "data": {
            "text/plain": [
              "  Matched numbers  Probability   Prize\n",
              "0               5     0.000003  100000\n",
              "1               4     0.000462     300\n",
              "2               3     0.013333      10"
            ],
            "text/html": [
              "\n",
              "  <div id=\"df-8ee9c60e-98d7-4759-8a62-e550bd15311f\" class=\"colab-df-container\">\n",
              "    <div>\n",
              "<style scoped>\n",
              "    .dataframe tbody tr th:only-of-type {\n",
              "        vertical-align: middle;\n",
              "    }\n",
              "\n",
              "    .dataframe tbody tr th {\n",
              "        vertical-align: top;\n",
              "    }\n",
              "\n",
              "    .dataframe thead th {\n",
              "        text-align: right;\n",
              "    }\n",
              "</style>\n",
              "<table border=\"1\" class=\"dataframe\">\n",
              "  <thead>\n",
              "    <tr style=\"text-align: right;\">\n",
              "      <th></th>\n",
              "      <th>Matched numbers</th>\n",
              "      <th>Probability</th>\n",
              "      <th>Prize</th>\n",
              "    </tr>\n",
              "  </thead>\n",
              "  <tbody>\n",
              "    <tr>\n",
              "      <th>0</th>\n",
              "      <td>5</td>\n",
              "      <td>0.000003</td>\n",
              "      <td>100000</td>\n",
              "    </tr>\n",
              "    <tr>\n",
              "      <th>1</th>\n",
              "      <td>4</td>\n",
              "      <td>0.000462</td>\n",
              "      <td>300</td>\n",
              "    </tr>\n",
              "    <tr>\n",
              "      <th>2</th>\n",
              "      <td>3</td>\n",
              "      <td>0.013333</td>\n",
              "      <td>10</td>\n",
              "    </tr>\n",
              "  </tbody>\n",
              "</table>\n",
              "</div>\n",
              "    <div class=\"colab-df-buttons\">\n",
              "\n",
              "  <div class=\"colab-df-container\">\n",
              "    <button class=\"colab-df-convert\" onclick=\"convertToInteractive('df-8ee9c60e-98d7-4759-8a62-e550bd15311f')\"\n",
              "            title=\"Convert this dataframe to an interactive table.\"\n",
              "            style=\"display:none;\">\n",
              "\n",
              "  <svg xmlns=\"http://www.w3.org/2000/svg\" height=\"24px\" viewBox=\"0 -960 960 960\">\n",
              "    <path d=\"M120-120v-720h720v720H120Zm60-500h600v-160H180v160Zm220 220h160v-160H400v160Zm0 220h160v-160H400v160ZM180-400h160v-160H180v160Zm440 0h160v-160H620v160ZM180-180h160v-160H180v160Zm440 0h160v-160H620v160Z\"/>\n",
              "  </svg>\n",
              "    </button>\n",
              "\n",
              "  <style>\n",
              "    .colab-df-container {\n",
              "      display:flex;\n",
              "      gap: 12px;\n",
              "    }\n",
              "\n",
              "    .colab-df-convert {\n",
              "      background-color: #E8F0FE;\n",
              "      border: none;\n",
              "      border-radius: 50%;\n",
              "      cursor: pointer;\n",
              "      display: none;\n",
              "      fill: #1967D2;\n",
              "      height: 32px;\n",
              "      padding: 0 0 0 0;\n",
              "      width: 32px;\n",
              "    }\n",
              "\n",
              "    .colab-df-convert:hover {\n",
              "      background-color: #E2EBFA;\n",
              "      box-shadow: 0px 1px 2px rgba(60, 64, 67, 0.3), 0px 1px 3px 1px rgba(60, 64, 67, 0.15);\n",
              "      fill: #174EA6;\n",
              "    }\n",
              "\n",
              "    .colab-df-buttons div {\n",
              "      margin-bottom: 4px;\n",
              "    }\n",
              "\n",
              "    [theme=dark] .colab-df-convert {\n",
              "      background-color: #3B4455;\n",
              "      fill: #D2E3FC;\n",
              "    }\n",
              "\n",
              "    [theme=dark] .colab-df-convert:hover {\n",
              "      background-color: #434B5C;\n",
              "      box-shadow: 0px 1px 3px 1px rgba(0, 0, 0, 0.15);\n",
              "      filter: drop-shadow(0px 1px 2px rgba(0, 0, 0, 0.3));\n",
              "      fill: #FFFFFF;\n",
              "    }\n",
              "  </style>\n",
              "\n",
              "    <script>\n",
              "      const buttonEl =\n",
              "        document.querySelector('#df-8ee9c60e-98d7-4759-8a62-e550bd15311f button.colab-df-convert');\n",
              "      buttonEl.style.display =\n",
              "        google.colab.kernel.accessAllowed ? 'block' : 'none';\n",
              "\n",
              "      async function convertToInteractive(key) {\n",
              "        const element = document.querySelector('#df-8ee9c60e-98d7-4759-8a62-e550bd15311f');\n",
              "        const dataTable =\n",
              "          await google.colab.kernel.invokeFunction('convertToInteractive',\n",
              "                                                    [key], {});\n",
              "        if (!dataTable) return;\n",
              "\n",
              "        const docLinkHtml = 'Like what you see? Visit the ' +\n",
              "          '<a target=\"_blank\" href=https://colab.research.google.com/notebooks/data_table.ipynb>data table notebook</a>'\n",
              "          + ' to learn more about interactive tables.';\n",
              "        element.innerHTML = '';\n",
              "        dataTable['output_type'] = 'display_data';\n",
              "        await google.colab.output.renderOutput(dataTable, element);\n",
              "        const docLink = document.createElement('div');\n",
              "        docLink.innerHTML = docLinkHtml;\n",
              "        element.appendChild(docLink);\n",
              "      }\n",
              "    </script>\n",
              "  </div>\n",
              "\n",
              "\n",
              "<div id=\"df-03c43845-05ad-43c4-97b4-b92cb5c964d7\">\n",
              "  <button class=\"colab-df-quickchart\" onclick=\"quickchart('df-03c43845-05ad-43c4-97b4-b92cb5c964d7')\"\n",
              "            title=\"Suggest charts\"\n",
              "            style=\"display:none;\">\n",
              "\n",
              "<svg xmlns=\"http://www.w3.org/2000/svg\" height=\"24px\"viewBox=\"0 0 24 24\"\n",
              "     width=\"24px\">\n",
              "    <g>\n",
              "        <path d=\"M19 3H5c-1.1 0-2 .9-2 2v14c0 1.1.9 2 2 2h14c1.1 0 2-.9 2-2V5c0-1.1-.9-2-2-2zM9 17H7v-7h2v7zm4 0h-2V7h2v10zm4 0h-2v-4h2v4z\"/>\n",
              "    </g>\n",
              "</svg>\n",
              "  </button>\n",
              "\n",
              "<style>\n",
              "  .colab-df-quickchart {\n",
              "      --bg-color: #E8F0FE;\n",
              "      --fill-color: #1967D2;\n",
              "      --hover-bg-color: #E2EBFA;\n",
              "      --hover-fill-color: #174EA6;\n",
              "      --disabled-fill-color: #AAA;\n",
              "      --disabled-bg-color: #DDD;\n",
              "  }\n",
              "\n",
              "  [theme=dark] .colab-df-quickchart {\n",
              "      --bg-color: #3B4455;\n",
              "      --fill-color: #D2E3FC;\n",
              "      --hover-bg-color: #434B5C;\n",
              "      --hover-fill-color: #FFFFFF;\n",
              "      --disabled-bg-color: #3B4455;\n",
              "      --disabled-fill-color: #666;\n",
              "  }\n",
              "\n",
              "  .colab-df-quickchart {\n",
              "    background-color: var(--bg-color);\n",
              "    border: none;\n",
              "    border-radius: 50%;\n",
              "    cursor: pointer;\n",
              "    display: none;\n",
              "    fill: var(--fill-color);\n",
              "    height: 32px;\n",
              "    padding: 0;\n",
              "    width: 32px;\n",
              "  }\n",
              "\n",
              "  .colab-df-quickchart:hover {\n",
              "    background-color: var(--hover-bg-color);\n",
              "    box-shadow: 0 1px 2px rgba(60, 64, 67, 0.3), 0 1px 3px 1px rgba(60, 64, 67, 0.15);\n",
              "    fill: var(--button-hover-fill-color);\n",
              "  }\n",
              "\n",
              "  .colab-df-quickchart-complete:disabled,\n",
              "  .colab-df-quickchart-complete:disabled:hover {\n",
              "    background-color: var(--disabled-bg-color);\n",
              "    fill: var(--disabled-fill-color);\n",
              "    box-shadow: none;\n",
              "  }\n",
              "\n",
              "  .colab-df-spinner {\n",
              "    border: 2px solid var(--fill-color);\n",
              "    border-color: transparent;\n",
              "    border-bottom-color: var(--fill-color);\n",
              "    animation:\n",
              "      spin 1s steps(1) infinite;\n",
              "  }\n",
              "\n",
              "  @keyframes spin {\n",
              "    0% {\n",
              "      border-color: transparent;\n",
              "      border-bottom-color: var(--fill-color);\n",
              "      border-left-color: var(--fill-color);\n",
              "    }\n",
              "    20% {\n",
              "      border-color: transparent;\n",
              "      border-left-color: var(--fill-color);\n",
              "      border-top-color: var(--fill-color);\n",
              "    }\n",
              "    30% {\n",
              "      border-color: transparent;\n",
              "      border-left-color: var(--fill-color);\n",
              "      border-top-color: var(--fill-color);\n",
              "      border-right-color: var(--fill-color);\n",
              "    }\n",
              "    40% {\n",
              "      border-color: transparent;\n",
              "      border-right-color: var(--fill-color);\n",
              "      border-top-color: var(--fill-color);\n",
              "    }\n",
              "    60% {\n",
              "      border-color: transparent;\n",
              "      border-right-color: var(--fill-color);\n",
              "    }\n",
              "    80% {\n",
              "      border-color: transparent;\n",
              "      border-right-color: var(--fill-color);\n",
              "      border-bottom-color: var(--fill-color);\n",
              "    }\n",
              "    90% {\n",
              "      border-color: transparent;\n",
              "      border-bottom-color: var(--fill-color);\n",
              "    }\n",
              "  }\n",
              "</style>\n",
              "\n",
              "  <script>\n",
              "    async function quickchart(key) {\n",
              "      const quickchartButtonEl =\n",
              "        document.querySelector('#' + key + ' button');\n",
              "      quickchartButtonEl.disabled = true;  // To prevent multiple clicks.\n",
              "      quickchartButtonEl.classList.add('colab-df-spinner');\n",
              "      try {\n",
              "        const charts = await google.colab.kernel.invokeFunction(\n",
              "            'suggestCharts', [key], {});\n",
              "      } catch (error) {\n",
              "        console.error('Error during call to suggestCharts:', error);\n",
              "      }\n",
              "      quickchartButtonEl.classList.remove('colab-df-spinner');\n",
              "      quickchartButtonEl.classList.add('colab-df-quickchart-complete');\n",
              "    }\n",
              "    (() => {\n",
              "      let quickchartButtonEl =\n",
              "        document.querySelector('#df-03c43845-05ad-43c4-97b4-b92cb5c964d7 button');\n",
              "      quickchartButtonEl.style.display =\n",
              "        google.colab.kernel.accessAllowed ? 'block' : 'none';\n",
              "    })();\n",
              "  </script>\n",
              "</div>\n",
              "\n",
              "  <div id=\"id_afa215a2-bdcf-461f-8033-9802de656720\">\n",
              "    <style>\n",
              "      .colab-df-generate {\n",
              "        background-color: #E8F0FE;\n",
              "        border: none;\n",
              "        border-radius: 50%;\n",
              "        cursor: pointer;\n",
              "        display: none;\n",
              "        fill: #1967D2;\n",
              "        height: 32px;\n",
              "        padding: 0 0 0 0;\n",
              "        width: 32px;\n",
              "      }\n",
              "\n",
              "      .colab-df-generate:hover {\n",
              "        background-color: #E2EBFA;\n",
              "        box-shadow: 0px 1px 2px rgba(60, 64, 67, 0.3), 0px 1px 3px 1px rgba(60, 64, 67, 0.15);\n",
              "        fill: #174EA6;\n",
              "      }\n",
              "\n",
              "      [theme=dark] .colab-df-generate {\n",
              "        background-color: #3B4455;\n",
              "        fill: #D2E3FC;\n",
              "      }\n",
              "\n",
              "      [theme=dark] .colab-df-generate:hover {\n",
              "        background-color: #434B5C;\n",
              "        box-shadow: 0px 1px 3px 1px rgba(0, 0, 0, 0.15);\n",
              "        filter: drop-shadow(0px 1px 2px rgba(0, 0, 0, 0.3));\n",
              "        fill: #FFFFFF;\n",
              "      }\n",
              "    </style>\n",
              "    <button class=\"colab-df-generate\" onclick=\"generateWithVariable('df31')\"\n",
              "            title=\"Generate code using this dataframe.\"\n",
              "            style=\"display:none;\">\n",
              "\n",
              "  <svg xmlns=\"http://www.w3.org/2000/svg\" height=\"24px\"viewBox=\"0 0 24 24\"\n",
              "       width=\"24px\">\n",
              "    <path d=\"M7,19H8.4L18.45,9,17,7.55,7,17.6ZM5,21V16.75L18.45,3.32a2,2,0,0,1,2.83,0l1.4,1.43a1.91,1.91,0,0,1,.58,1.4,1.91,1.91,0,0,1-.58,1.4L9.25,21ZM18.45,9,17,7.55Zm-12,3A5.31,5.31,0,0,0,4.9,8.1,5.31,5.31,0,0,0,1,6.5,5.31,5.31,0,0,0,4.9,4.9,5.31,5.31,0,0,0,6.5,1,5.31,5.31,0,0,0,8.1,4.9,5.31,5.31,0,0,0,12,6.5,5.46,5.46,0,0,0,6.5,12Z\"/>\n",
              "  </svg>\n",
              "    </button>\n",
              "    <script>\n",
              "      (() => {\n",
              "      const buttonEl =\n",
              "        document.querySelector('#id_afa215a2-bdcf-461f-8033-9802de656720 button.colab-df-generate');\n",
              "      buttonEl.style.display =\n",
              "        google.colab.kernel.accessAllowed ? 'block' : 'none';\n",
              "\n",
              "      buttonEl.onclick = () => {\n",
              "        google.colab.notebook.generateWithVariable('df31');\n",
              "      }\n",
              "      })();\n",
              "    </script>\n",
              "  </div>\n",
              "\n",
              "    </div>\n",
              "  </div>\n"
            ],
            "application/vnd.google.colaboratory.intrinsic+json": {
              "type": "dataframe",
              "variable_name": "df31",
              "summary": "{\n  \"name\": \"df31\",\n  \"rows\": 3,\n  \"fields\": [\n    {\n      \"column\": \"Matched numbers\",\n      \"properties\": {\n        \"dtype\": \"string\",\n        \"num_unique_values\": 3,\n        \"samples\": [\n          \"5\",\n          \"4\",\n          \"3\"\n        ],\n        \"semantic_type\": \"\",\n        \"description\": \"\"\n      }\n    },\n    {\n      \"column\": \"Probability\",\n      \"properties\": {\n        \"dtype\": \"number\",\n        \"std\": 0.0075671968667418415,\n        \"min\": 3.0804110500505186e-06,\n        \"max\": 0.013333333333333334,\n        \"num_unique_values\": 3,\n        \"samples\": [\n          3.0804110500505186e-06,\n          0.0004621072088724584,\n          0.013333333333333334\n        ],\n        \"semantic_type\": \"\",\n        \"description\": \"\"\n      }\n    },\n    {\n      \"column\": \"Prize\",\n      \"properties\": {\n        \"dtype\": \"number\",\n        \"std\": 57645,\n        \"min\": 10,\n        \"max\": 100000,\n        \"num_unique_values\": 3,\n        \"samples\": [\n          100000,\n          300,\n          10\n        ],\n        \"semantic_type\": \"\",\n        \"description\": \"\"\n      }\n    }\n  ]\n}"
            }
          },
          "metadata": {},
          "execution_count": 33
        }
      ]
    },
    {
      "cell_type": "code",
      "source": [
        "expected_value = sum(df31['Prize'] * df31['Probability']) -1\n",
        "print(f\"The expected value is ${round(expected_value,2)} \\nInterpret: It means that a player loses 42 cents in each game's ticket,  in average\")"
      ],
      "metadata": {
        "colab": {
          "base_uri": "https://localhost:8080/",
          "height": 0
        },
        "id": "oFSrNSHlfWHx",
        "outputId": "7ba44e3e-f6c9-43d4-d6f6-bddc0c7f551b"
      },
      "execution_count": 37,
      "outputs": [
        {
          "output_type": "stream",
          "name": "stdout",
          "text": [
            "The expected value is $-0.42 \n",
            "Interpret: It means that a player loses 42 cents in each game's ticket,  in average\n"
          ]
        }
      ]
    },
    {
      "cell_type": "markdown",
      "source": [
        "# Binomial Distribution\n"
      ],
      "metadata": {
        "id": "LpwzgKNAhsfv"
      }
    },
    {
      "cell_type": "markdown",
      "source": [
        "## 37/344\n",
        "\n",
        "In a recent poll, the Gallup Organization found\n",
        "that 45% of adult Americans believe that the overall state of\n",
        "moral values in the United States is poor. Suppose a survey of a\n",
        "random sample of 25 adult Americans is conducted in which they\n",
        "are asked to disclose their feelings on the overall state of moral\n",
        "values in the United States."
      ],
      "metadata": {
        "id": "bm4i2UJ2hwHj"
      }
    },
    {
      "cell_type": "code",
      "source": [
        "# Define Binomial Probability Distribution Function\n",
        "from math import comb\n",
        "def binomial_probability(x, n, p):\n",
        "    return comb(n, x) * (p ** x) * ((1 - p) ** (n - x))"
      ],
      "metadata": {
        "id": "c9_GY9VPi0mF"
      },
      "execution_count": 41,
      "outputs": []
    },
    {
      "cell_type": "markdown",
      "source": [
        "**(a) Find and interpret the probability that exactly 15 of those surveyed feel the state of morals is poor.**"
      ],
      "metadata": {
        "id": "AVNBdws4h8nj"
      }
    },
    {
      "cell_type": "code",
      "source": [
        "p15 = binomial_probability(15, 25, 0.45)\n",
        "print(f\"P(x = 15) = {p15} \\nInterpret: in 100 trials of this experiment, we expect about {round(p15*100)} trials to result in exactly 15 adult Americans who feel the state of morals is poor\")"
      ],
      "metadata": {
        "colab": {
          "base_uri": "https://localhost:8080/",
          "height": 0
        },
        "id": "MuHXxZ3_iEYr",
        "outputId": "c1390d94-5950-42dc-a2eb-b6b1f9e702b8"
      },
      "execution_count": 63,
      "outputs": [
        {
          "output_type": "stream",
          "name": "stdout",
          "text": [
            "P(x = 15) = 0.052023268737931554 \n",
            "Interpret: in 100 trials of this experiment, we expect about 5 trials to result in exactly 15 adult Americans who feel the state of morals is poor\n"
          ]
        }
      ]
    },
    {
      "cell_type": "markdown",
      "source": [
        "**(b) Find and interpret the probability that no more than 10 of those surveyed feel the state of morals is poor.**"
      ],
      "metadata": {
        "id": "nB-AgmLyiA4P"
      }
    },
    {
      "cell_type": "code",
      "source": [
        "total_probability_B = 0\n",
        "for i in range(0,11):\n",
        "  p10 = binomial_probability(i,25,0.45)\n",
        "  total_probability_B += p10\n",
        "print(f\"P(x <= 10) = {total_probability_B} \\nInterpret: in 100 trials of this experiment, we expect about {round(total_probability_B*100)} trials to result in no more than 10 adult Americans who feel the state of morals is poor\")"
      ],
      "metadata": {
        "colab": {
          "base_uri": "https://localhost:8080/",
          "height": 0
        },
        "id": "OO3C66jmhvpZ",
        "outputId": "3b35e0ad-016e-46a5-c4db-f625ce24b7d2"
      },
      "execution_count": 62,
      "outputs": [
        {
          "output_type": "stream",
          "name": "stdout",
          "text": [
            "P(x <= 10) = 0.38426009072451545 \n",
            "Interpret: in 100 trials of this experiment, we expect about 38 trials to result in no more than 10 adult Americans who feel the state of morals is poor\n"
          ]
        }
      ]
    },
    {
      "cell_type": "markdown",
      "source": [
        "**(c) Find and interpret the probability that more than 16 of those surveyed feel the state of morals is poor.**"
      ],
      "metadata": {
        "id": "8BD-PAxroZBU"
      }
    },
    {
      "cell_type": "code",
      "source": [
        "total_probability_C = 0\n",
        "for i in range(17,26):\n",
        "  p16 = binomial_probability(i,25,0.45)\n",
        "  total_probability_C += p16\n",
        "print(f\"P(x > 16) = {total_probability_C} \\nInterpret: in 100 trials of this experiment, we expect about {round(total_probability_C*100)} trials to result in more than 16 adult Americans who feel the state of morals is poor\")"
      ],
      "metadata": {
        "colab": {
          "base_uri": "https://localhost:8080/",
          "height": 0
        },
        "id": "8iv3lFS6omw-",
        "outputId": "d401e051-e109-4bac-9bcd-1903b1a11453"
      },
      "execution_count": 61,
      "outputs": [
        {
          "output_type": "stream",
          "name": "stdout",
          "text": [
            "P(x > 16) = 0.01735689533793306 \n",
            "Interpret: in 100 trials of this experiment, we expect about 2 trials to result in more than 16 adult Americans who feel the state of morals is poor\n"
          ]
        }
      ]
    },
    {
      "cell_type": "markdown",
      "source": [
        "**(d) Find and interpret the probability that 13 or 14 believe the state of morals is poor.**"
      ],
      "metadata": {
        "id": "s9UtaF7aogli"
      }
    },
    {
      "cell_type": "code",
      "source": [
        "p1314 = binomial_probability(13,25,0.45) + binomial_probability(14,25,0.45)\n",
        "print(f\"P(x = 13 or 14) = {p1314} \\nInterpret: in 100 trials of this experiment, we expect about {round(p1314*100)} trials to result in 13 or 14 adult Americans who feel the state of morals is poor\")"
      ],
      "metadata": {
        "colab": {
          "base_uri": "https://localhost:8080/",
          "height": 0
        },
        "id": "Vq0UfAXBqEo7",
        "outputId": "b1dc13d5-0c55-453e-b78f-a58eeed07ca9"
      },
      "execution_count": 64,
      "outputs": [
        {
          "output_type": "stream",
          "name": "stdout",
          "text": [
            "P(x = 13 or 14) = 0.21034099397126646 \n",
            "Interpret: in 100 trials of this experiment, we expect about 21 trials to result in 13 or 14 adult Americans who feel the state of morals is poor\n"
          ]
        }
      ]
    },
    {
      "cell_type": "markdown",
      "source": [
        "**(e) Would it be unusual to find 20 or more adult Americans who believe the overall state of moral values is poor in the United States? Why?**"
      ],
      "metadata": {
        "id": "a7s62h44oh55"
      }
    },
    {
      "cell_type": "code",
      "source": [
        "total_probability_E = 0\n",
        "for i in range(20,26):\n",
        "  p20 = binomial_probability(i,25,0.45)\n",
        "  total_probability_E += p20\n",
        "print(f\"P(x >= 20) = {total_probability_E} \\nYes, it would be unusual to find 20 or more adult Americans who believe the overall state of moral values is poor in the United States since the  probability is extremely low ~ 0\")"
      ],
      "metadata": {
        "colab": {
          "base_uri": "https://localhost:8080/",
          "height": 0
        },
        "id": "_BMcqr0tqeky",
        "outputId": "4e9faf4a-5175-46ed-be9d-4d006b33ce4c"
      },
      "execution_count": 79,
      "outputs": [
        {
          "output_type": "stream",
          "name": "stdout",
          "text": [
            "P(x >= 20) = 0.00038043607122627726 \n",
            "Yes, it would be unusual to find 20 or more adult Americans who believe the overall state of moral values is poor in the United States since the  probability is extremely low ~ 0\n"
          ]
        }
      ]
    },
    {
      "cell_type": "markdown",
      "source": [
        "## 45/345\n",
        "\n",
        "In a recent poll, the Gallup Organization found\n",
        "that 45% of adult Americans believe that the overall state of\n",
        "moral values in the United States is poor"
      ],
      "metadata": {
        "id": "JKrpDNk9rV-V"
      }
    },
    {
      "cell_type": "markdown",
      "source": [
        "**(a) Compute the mean and standard deviation of the random variable X, the number of adults who believe that the overall state of moral values in the United States is poor based on a random sample of 500 adult Americans.**"
      ],
      "metadata": {
        "id": "LHXsmZxNrZs7"
      }
    },
    {
      "cell_type": "code",
      "source": [
        "n = 500\n",
        "p = 0.45\n",
        "X_mean_45 = n * p\n",
        "X_std_45 = (n * p * (1 - p))**0.5\n",
        "print(f\"μ_x = {round(X_mean_45)} \\nσ_x = {round(X_std_45,1)}\")"
      ],
      "metadata": {
        "colab": {
          "base_uri": "https://localhost:8080/",
          "height": 0
        },
        "id": "2kbq6OevrmBh",
        "outputId": "373393fd-0152-4130-f495-d55ec8ea3efe"
      },
      "execution_count": 67,
      "outputs": [
        {
          "output_type": "stream",
          "name": "stdout",
          "text": [
            "μ_x = 225 \n",
            "σ_x = 11.1\n"
          ]
        }
      ]
    },
    {
      "cell_type": "markdown",
      "source": [
        "**(b) Interpret the mean.**\n",
        "\n",
        "`Answer:  In a random sample of 500 adult Americans, we expect 225 to believe that the overall state of moral values in the United States is poor.`"
      ],
      "metadata": {
        "id": "VIjgpoqhsWah"
      }
    },
    {
      "cell_type": "markdown",
      "source": [
        "**(c) Would it be unusual to identify 240 adult Americans who believe that the overall state of moral values in the United States is poor based on a random sample of 500 adult Americans? Why?**"
      ],
      "metadata": {
        "id": "rjjexfaWsaZH"
      }
    },
    {
      "cell_type": "code",
      "source": [
        "# Check Empirical Rule\n",
        "check_ER = n*p*(1-p)\n",
        "if check_ER >= 10:\n",
        "  print(\"The binomial probability distribution is approximately bell shaped. Therefore, we can use the Empirical Rule\")\n",
        "else:\n",
        "  print(\"The binomial probability distribution is not approximately bell shaped. Therefore, we cannot use the Empirical Rule\")"
      ],
      "metadata": {
        "colab": {
          "base_uri": "https://localhost:8080/",
          "height": 0
        },
        "id": "jC1_ekIwsPB4",
        "outputId": "584e65de-7475-41d1-b3df-d08e0f33458c"
      },
      "execution_count": 68,
      "outputs": [
        {
          "output_type": "stream",
          "name": "stdout",
          "text": [
            "The binomial probability distribution is approximately bell shaped. Therefore, we can use the Empirical Rule\n"
          ]
        }
      ]
    },
    {
      "cell_type": "code",
      "source": [
        "lower_interval = X_mean_45 - 2*X_std_45\n",
        "upper_interval = X_mean_45 + 2*X_std_45\n",
        "\n",
        "if 240 > lower_interval and 240 < upper_interval:\n",
        "  print(f\"No, it is not unusual to identify 240 adult Americans who believe that the overall state of moral values in the United States is poor based on a random sample of 500 adult Americans. Since {lower_interval} < 240 < {upper_interval}\")\n",
        "else:\n",
        "  print(f\"Yes, it is unusual to identify 240 adult Americans who believe that the overall state of moral values in the United States is poor based on a random sample of 500 adult Americans. Since 240 is out of the range ({lower_interval},{upper_interval})\")"
      ],
      "metadata": {
        "colab": {
          "base_uri": "https://localhost:8080/",
          "height": 0
        },
        "id": "MqxLLvZ-uFSG",
        "outputId": "2b6dc444-c318-4873-a8e5-5ada35eb52c2"
      },
      "execution_count": 78,
      "outputs": [
        {
          "output_type": "stream",
          "name": "stdout",
          "text": [
            "No, it is not unusual to identify 240 adult Americans who believe that the overall state of moral values in the United States is poor based on a random sample of 500 adult Americans. Since 202.75140453871302 < 240 < 247.24859546128698\n"
          ]
        }
      ]
    },
    {
      "cell_type": "markdown",
      "source": [
        "# Poission Distribution"
      ],
      "metadata": {
        "id": "wqsmCuXvx6II"
      }
    },
    {
      "cell_type": "markdown",
      "source": [
        "## 13/351\n",
        "Insect Fragments The Food and Drug Administration sets\n",
        "a Food Defect Action Level (FDAL) for the various foreign\n",
        "substances that inevitably end up in the food we eat and liquids\n",
        "we drink. For example, the FDAL level for insect filth in peanut\n",
        "butter is 0.3 insect fragment (larvae, eggs, body parts, and so\n",
        "on) per gram. Suppose that a supply of peanut butter contains\n",
        "0.3 insect fragment per gram. Compute the probability that the\n",
        "number of insect fragments in a 5-gram sample of the peanut\n",
        "butter is"
      ],
      "metadata": {
        "id": "EFq6RtRlx7Yc"
      }
    },
    {
      "cell_type": "code",
      "source": [
        "# Define Poisson Probability Function\n",
        "import math\n",
        "def poisson_probability(lmbda, x):\n",
        "    return (lmbda ** x) * (math.exp(-lmbda)) / math.factorial(x)"
      ],
      "metadata": {
        "id": "wp8XYsDWy-9L"
      },
      "execution_count": 80,
      "outputs": []
    },
    {
      "cell_type": "markdown",
      "source": [
        "(a) exactly two. Interpret the result.\n"
      ],
      "metadata": {
        "id": "63xlTb89yK8E"
      }
    },
    {
      "cell_type": "code",
      "source": [
        "p2 = poisson_probability(0.3*5, 2)\n",
        "print(f\"P(x = 2) = {p2} \\nInterpret: In about {round(p2*100)} of every 100 five-gram samples of this supply of peanut butter, we would expect to find 2 insect fragments.\")"
      ],
      "metadata": {
        "colab": {
          "base_uri": "https://localhost:8080/",
          "height": 0
        },
        "id": "76glXrKxzefj",
        "outputId": "73d7845c-32f1-43f5-b4d5-ab11e1e6c597"
      },
      "execution_count": 86,
      "outputs": [
        {
          "output_type": "stream",
          "name": "stdout",
          "text": [
            "P(x = 2) = 0.25102143016698353 \n",
            "Interpret: In about 25 of every 100 five-gram samples of this supply of peanut butter, we would expect to find 2 insect fragments.\n"
          ]
        }
      ]
    },
    {
      "cell_type": "markdown",
      "source": [
        "(b) fewer than two. Interpret the result.\n"
      ],
      "metadata": {
        "id": "dOlSY7DtyegZ"
      }
    },
    {
      "cell_type": "code",
      "source": [
        "p01 = poisson_probability(0.3*5,0) + poisson_probability(0.3*5,1)\n",
        "print(f\"P(x < 2) = {p01} \\nInterpret: In about {round(p01*100)} of every 100 five-gram samples of this supply of peanut butter, we would expect to find fewer than 2 insect fragments.\")"
      ],
      "metadata": {
        "colab": {
          "base_uri": "https://localhost:8080/",
          "height": 0
        },
        "id": "RHe_aXWH0Nlr",
        "outputId": "3fa3fdba-4cac-40fb-d313-03bf9bff3325"
      },
      "execution_count": 88,
      "outputs": [
        {
          "output_type": "stream",
          "name": "stdout",
          "text": [
            "P(x < 2) = 0.5578254003710745 \n",
            "Interpret: In about 56 of every 100 five-gram samples of this supply of peanut butter, we would expect to find fewer than 2 insect fragments.\n"
          ]
        }
      ]
    },
    {
      "cell_type": "markdown",
      "source": [
        "(c) at least two. Interpret the result.\n"
      ],
      "metadata": {
        "id": "UsT2ImiQyge1"
      }
    },
    {
      "cell_type": "code",
      "source": [
        "p2_more = 1 - p01\n",
        "print(f\"P(x >= 2) = {p2_more} \\nInterpret: In about {round(p2_more*100)} of every 100 five-gram samples of this supply of peanut butter, we would expect to find at least 2 insect fragments.\")"
      ],
      "metadata": {
        "colab": {
          "base_uri": "https://localhost:8080/",
          "height": 0
        },
        "id": "FuKg6ROn0uuT",
        "outputId": "bfcd69a7-71ae-49a0-b453-d224429dea3e"
      },
      "execution_count": 89,
      "outputs": [
        {
          "output_type": "stream",
          "name": "stdout",
          "text": [
            "P(x >= 2) = 0.44217459962892547 \n",
            "Interpret: In about 44 of every 100 five-gram samples of this supply of peanut butter, we would expect to find at least 2 insect fragments.\n"
          ]
        }
      ]
    },
    {
      "cell_type": "markdown",
      "source": [
        "(d) at least one. Interpret the result.\n"
      ],
      "metadata": {
        "id": "Pi41GIuhyh6z"
      }
    },
    {
      "cell_type": "code",
      "source": [
        "p1_more = 1 - poisson_probability(0.3*5,0)\n",
        "print(f\"P(x >= 1) = {p1_more} \\nInterpret: In about {round(p1_more*100)} of every 100 five-gram samples of this supply of peanut butter, we would expect to find at least 1 insect fragments.\")"
      ],
      "metadata": {
        "colab": {
          "base_uri": "https://localhost:8080/",
          "height": 0
        },
        "id": "QbXrJKm21F1T",
        "outputId": "0f7129e3-f0b5-4a2d-e0f5-21c716cefc8e"
      },
      "execution_count": 91,
      "outputs": [
        {
          "output_type": "stream",
          "name": "stdout",
          "text": [
            "P(x >= 1) = 0.7768698398515702 \n",
            "Interpret: In about 78 of every 100 five-gram samples of this supply of peanut butter, we would expect to find at least 1 insect fragments.\n"
          ]
        }
      ]
    },
    {
      "cell_type": "markdown",
      "source": [
        "(e) Would it be unusual for a 5-gram sample of this supply of\n",
        "peanut butter to contain four or more insect fragments?"
      ],
      "metadata": {
        "id": "06OTdkVjykGJ"
      }
    },
    {
      "cell_type": "code",
      "source": [
        "total_probability_13E = 0\n",
        "for i in range (0,4):\n",
        "  p4 = poisson_probability(0.3*5,i)\n",
        "  total_probability_13E += p4\n",
        "print(f\"P(x >= 4) = {1-total_probability_13E} \\nIt would not be unusual since about {round((1-total_probability_13E)*100)} of every 100 five-gram samples of this supply will contain at least 4 insect fragments\")"
      ],
      "metadata": {
        "colab": {
          "base_uri": "https://localhost:8080/",
          "height": 0
        },
        "id": "pSFFEewy1kdS",
        "outputId": "5df876fa-00ae-4354-bb95-6a31a663f888"
      },
      "execution_count": 96,
      "outputs": [
        {
          "output_type": "stream",
          "name": "stdout",
          "text": [
            "P(x >= 4) = 0.06564245437845018 \n",
            "It would not be unusual since about 7 of every 100 five-gram samples of this supply will contain at least 4 insect fragments\n"
          ]
        }
      ]
    },
    {
      "cell_type": "markdown",
      "source": [
        "## 21/352\n",
        "\n",
        "In 1898, Ladislaus von Bortkiewicz published\n",
        "The Law of Small Numbers, in which he demonstrated the power\n",
        "of the Poisson probability law. Before his publication, the law\n",
        "was used exclusively to approximate binomial probabilities. He\n",
        "demonstrated the law’s power, using the number of Prussian\n",
        "cavalry soldiers who were kicked to death by their horses. The\n",
        "Prussian army monitored 10 cavalry corps for 20 years and\n",
        "recorded the number X of annual fatalities due to horse kicks for\n",
        "the 200 observations. The following table shows the data\n",
        "\n",
        "![image.png](data:image/png;base64,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)"
      ],
      "metadata": {
        "id": "IbzSS74S2rel"
      }
    },
    {
      "cell_type": "code",
      "source": [
        "df21 = pd.DataFrame({\n",
        "    'x': [0, 1, 2, 3, 4],\n",
        "    'Deaths Observed': [109, 65, 22, 3, 1]\n",
        "})\n",
        "df21"
      ],
      "metadata": {
        "colab": {
          "base_uri": "https://localhost:8080/",
          "height": 206
        },
        "id": "bnbnB8qs3QaX",
        "outputId": "21bcda6c-14c1-40b6-9001-6ee14959587c"
      },
      "execution_count": 97,
      "outputs": [
        {
          "output_type": "execute_result",
          "data": {
            "text/plain": [
              "   x  Deaths Observed\n",
              "0  0              109\n",
              "1  1               65\n",
              "2  2               22\n",
              "3  3                3\n",
              "4  4                1"
            ],
            "text/html": [
              "\n",
              "  <div id=\"df-7a257548-ebfc-4595-8a4b-4fc4d92c1060\" class=\"colab-df-container\">\n",
              "    <div>\n",
              "<style scoped>\n",
              "    .dataframe tbody tr th:only-of-type {\n",
              "        vertical-align: middle;\n",
              "    }\n",
              "\n",
              "    .dataframe tbody tr th {\n",
              "        vertical-align: top;\n",
              "    }\n",
              "\n",
              "    .dataframe thead th {\n",
              "        text-align: right;\n",
              "    }\n",
              "</style>\n",
              "<table border=\"1\" class=\"dataframe\">\n",
              "  <thead>\n",
              "    <tr style=\"text-align: right;\">\n",
              "      <th></th>\n",
              "      <th>x</th>\n",
              "      <th>Deaths Observed</th>\n",
              "    </tr>\n",
              "  </thead>\n",
              "  <tbody>\n",
              "    <tr>\n",
              "      <th>0</th>\n",
              "      <td>0</td>\n",
              "      <td>109</td>\n",
              "    </tr>\n",
              "    <tr>\n",
              "      <th>1</th>\n",
              "      <td>1</td>\n",
              "      <td>65</td>\n",
              "    </tr>\n",
              "    <tr>\n",
              "      <th>2</th>\n",
              "      <td>2</td>\n",
              "      <td>22</td>\n",
              "    </tr>\n",
              "    <tr>\n",
              "      <th>3</th>\n",
              "      <td>3</td>\n",
              "      <td>3</td>\n",
              "    </tr>\n",
              "    <tr>\n",
              "      <th>4</th>\n",
              "      <td>4</td>\n",
              "      <td>1</td>\n",
              "    </tr>\n",
              "  </tbody>\n",
              "</table>\n",
              "</div>\n",
              "    <div class=\"colab-df-buttons\">\n",
              "\n",
              "  <div class=\"colab-df-container\">\n",
              "    <button class=\"colab-df-convert\" onclick=\"convertToInteractive('df-7a257548-ebfc-4595-8a4b-4fc4d92c1060')\"\n",
              "            title=\"Convert this dataframe to an interactive table.\"\n",
              "            style=\"display:none;\">\n",
              "\n",
              "  <svg xmlns=\"http://www.w3.org/2000/svg\" height=\"24px\" viewBox=\"0 -960 960 960\">\n",
              "    <path d=\"M120-120v-720h720v720H120Zm60-500h600v-160H180v160Zm220 220h160v-160H400v160Zm0 220h160v-160H400v160ZM180-400h160v-160H180v160Zm440 0h160v-160H620v160ZM180-180h160v-160H180v160Zm440 0h160v-160H620v160Z\"/>\n",
              "  </svg>\n",
              "    </button>\n",
              "\n",
              "  <style>\n",
              "    .colab-df-container {\n",
              "      display:flex;\n",
              "      gap: 12px;\n",
              "    }\n",
              "\n",
              "    .colab-df-convert {\n",
              "      background-color: #E8F0FE;\n",
              "      border: none;\n",
              "      border-radius: 50%;\n",
              "      cursor: pointer;\n",
              "      display: none;\n",
              "      fill: #1967D2;\n",
              "      height: 32px;\n",
              "      padding: 0 0 0 0;\n",
              "      width: 32px;\n",
              "    }\n",
              "\n",
              "    .colab-df-convert:hover {\n",
              "      background-color: #E2EBFA;\n",
              "      box-shadow: 0px 1px 2px rgba(60, 64, 67, 0.3), 0px 1px 3px 1px rgba(60, 64, 67, 0.15);\n",
              "      fill: #174EA6;\n",
              "    }\n",
              "\n",
              "    .colab-df-buttons div {\n",
              "      margin-bottom: 4px;\n",
              "    }\n",
              "\n",
              "    [theme=dark] .colab-df-convert {\n",
              "      background-color: #3B4455;\n",
              "      fill: #D2E3FC;\n",
              "    }\n",
              "\n",
              "    [theme=dark] .colab-df-convert:hover {\n",
              "      background-color: #434B5C;\n",
              "      box-shadow: 0px 1px 3px 1px rgba(0, 0, 0, 0.15);\n",
              "      filter: drop-shadow(0px 1px 2px rgba(0, 0, 0, 0.3));\n",
              "      fill: #FFFFFF;\n",
              "    }\n",
              "  </style>\n",
              "\n",
              "    <script>\n",
              "      const buttonEl =\n",
              "        document.querySelector('#df-7a257548-ebfc-4595-8a4b-4fc4d92c1060 button.colab-df-convert');\n",
              "      buttonEl.style.display =\n",
              "        google.colab.kernel.accessAllowed ? 'block' : 'none';\n",
              "\n",
              "      async function convertToInteractive(key) {\n",
              "        const element = document.querySelector('#df-7a257548-ebfc-4595-8a4b-4fc4d92c1060');\n",
              "        const dataTable =\n",
              "          await google.colab.kernel.invokeFunction('convertToInteractive',\n",
              "                                                    [key], {});\n",
              "        if (!dataTable) return;\n",
              "\n",
              "        const docLinkHtml = 'Like what you see? Visit the ' +\n",
              "          '<a target=\"_blank\" href=https://colab.research.google.com/notebooks/data_table.ipynb>data table notebook</a>'\n",
              "          + ' to learn more about interactive tables.';\n",
              "        element.innerHTML = '';\n",
              "        dataTable['output_type'] = 'display_data';\n",
              "        await google.colab.output.renderOutput(dataTable, element);\n",
              "        const docLink = document.createElement('div');\n",
              "        docLink.innerHTML = docLinkHtml;\n",
              "        element.appendChild(docLink);\n",
              "      }\n",
              "    </script>\n",
              "  </div>\n",
              "\n",
              "\n",
              "<div id=\"df-eb370d3a-5ed4-45e9-93f3-0a9fabac2c0d\">\n",
              "  <button class=\"colab-df-quickchart\" onclick=\"quickchart('df-eb370d3a-5ed4-45e9-93f3-0a9fabac2c0d')\"\n",
              "            title=\"Suggest charts\"\n",
              "            style=\"display:none;\">\n",
              "\n",
              "<svg xmlns=\"http://www.w3.org/2000/svg\" height=\"24px\"viewBox=\"0 0 24 24\"\n",
              "     width=\"24px\">\n",
              "    <g>\n",
              "        <path d=\"M19 3H5c-1.1 0-2 .9-2 2v14c0 1.1.9 2 2 2h14c1.1 0 2-.9 2-2V5c0-1.1-.9-2-2-2zM9 17H7v-7h2v7zm4 0h-2V7h2v10zm4 0h-2v-4h2v4z\"/>\n",
              "    </g>\n",
              "</svg>\n",
              "  </button>\n",
              "\n",
              "<style>\n",
              "  .colab-df-quickchart {\n",
              "      --bg-color: #E8F0FE;\n",
              "      --fill-color: #1967D2;\n",
              "      --hover-bg-color: #E2EBFA;\n",
              "      --hover-fill-color: #174EA6;\n",
              "      --disabled-fill-color: #AAA;\n",
              "      --disabled-bg-color: #DDD;\n",
              "  }\n",
              "\n",
              "  [theme=dark] .colab-df-quickchart {\n",
              "      --bg-color: #3B4455;\n",
              "      --fill-color: #D2E3FC;\n",
              "      --hover-bg-color: #434B5C;\n",
              "      --hover-fill-color: #FFFFFF;\n",
              "      --disabled-bg-color: #3B4455;\n",
              "      --disabled-fill-color: #666;\n",
              "  }\n",
              "\n",
              "  .colab-df-quickchart {\n",
              "    background-color: var(--bg-color);\n",
              "    border: none;\n",
              "    border-radius: 50%;\n",
              "    cursor: pointer;\n",
              "    display: none;\n",
              "    fill: var(--fill-color);\n",
              "    height: 32px;\n",
              "    padding: 0;\n",
              "    width: 32px;\n",
              "  }\n",
              "\n",
              "  .colab-df-quickchart:hover {\n",
              "    background-color: var(--hover-bg-color);\n",
              "    box-shadow: 0 1px 2px rgba(60, 64, 67, 0.3), 0 1px 3px 1px rgba(60, 64, 67, 0.15);\n",
              "    fill: var(--button-hover-fill-color);\n",
              "  }\n",
              "\n",
              "  .colab-df-quickchart-complete:disabled,\n",
              "  .colab-df-quickchart-complete:disabled:hover {\n",
              "    background-color: var(--disabled-bg-color);\n",
              "    fill: var(--disabled-fill-color);\n",
              "    box-shadow: none;\n",
              "  }\n",
              "\n",
              "  .colab-df-spinner {\n",
              "    border: 2px solid var(--fill-color);\n",
              "    border-color: transparent;\n",
              "    border-bottom-color: var(--fill-color);\n",
              "    animation:\n",
              "      spin 1s steps(1) infinite;\n",
              "  }\n",
              "\n",
              "  @keyframes spin {\n",
              "    0% {\n",
              "      border-color: transparent;\n",
              "      border-bottom-color: var(--fill-color);\n",
              "      border-left-color: var(--fill-color);\n",
              "    }\n",
              "    20% {\n",
              "      border-color: transparent;\n",
              "      border-left-color: var(--fill-color);\n",
              "      border-top-color: var(--fill-color);\n",
              "    }\n",
              "    30% {\n",
              "      border-color: transparent;\n",
              "      border-left-color: var(--fill-color);\n",
              "      border-top-color: var(--fill-color);\n",
              "      border-right-color: var(--fill-color);\n",
              "    }\n",
              "    40% {\n",
              "      border-color: transparent;\n",
              "      border-right-color: var(--fill-color);\n",
              "      border-top-color: var(--fill-color);\n",
              "    }\n",
              "    60% {\n",
              "      border-color: transparent;\n",
              "      border-right-color: var(--fill-color);\n",
              "    }\n",
              "    80% {\n",
              "      border-color: transparent;\n",
              "      border-right-color: var(--fill-color);\n",
              "      border-bottom-color: var(--fill-color);\n",
              "    }\n",
              "    90% {\n",
              "      border-color: transparent;\n",
              "      border-bottom-color: var(--fill-color);\n",
              "    }\n",
              "  }\n",
              "</style>\n",
              "\n",
              "  <script>\n",
              "    async function quickchart(key) {\n",
              "      const quickchartButtonEl =\n",
              "        document.querySelector('#' + key + ' button');\n",
              "      quickchartButtonEl.disabled = true;  // To prevent multiple clicks.\n",
              "      quickchartButtonEl.classList.add('colab-df-spinner');\n",
              "      try {\n",
              "        const charts = await google.colab.kernel.invokeFunction(\n",
              "            'suggestCharts', [key], {});\n",
              "      } catch (error) {\n",
              "        console.error('Error during call to suggestCharts:', error);\n",
              "      }\n",
              "      quickchartButtonEl.classList.remove('colab-df-spinner');\n",
              "      quickchartButtonEl.classList.add('colab-df-quickchart-complete');\n",
              "    }\n",
              "    (() => {\n",
              "      let quickchartButtonEl =\n",
              "        document.querySelector('#df-eb370d3a-5ed4-45e9-93f3-0a9fabac2c0d button');\n",
              "      quickchartButtonEl.style.display =\n",
              "        google.colab.kernel.accessAllowed ? 'block' : 'none';\n",
              "    })();\n",
              "  </script>\n",
              "</div>\n",
              "\n",
              "  <div id=\"id_26f8219f-5e38-40fb-9067-987d942b91ff\">\n",
              "    <style>\n",
              "      .colab-df-generate {\n",
              "        background-color: #E8F0FE;\n",
              "        border: none;\n",
              "        border-radius: 50%;\n",
              "        cursor: pointer;\n",
              "        display: none;\n",
              "        fill: #1967D2;\n",
              "        height: 32px;\n",
              "        padding: 0 0 0 0;\n",
              "        width: 32px;\n",
              "      }\n",
              "\n",
              "      .colab-df-generate:hover {\n",
              "        background-color: #E2EBFA;\n",
              "        box-shadow: 0px 1px 2px rgba(60, 64, 67, 0.3), 0px 1px 3px 1px rgba(60, 64, 67, 0.15);\n",
              "        fill: #174EA6;\n",
              "      }\n",
              "\n",
              "      [theme=dark] .colab-df-generate {\n",
              "        background-color: #3B4455;\n",
              "        fill: #D2E3FC;\n",
              "      }\n",
              "\n",
              "      [theme=dark] .colab-df-generate:hover {\n",
              "        background-color: #434B5C;\n",
              "        box-shadow: 0px 1px 3px 1px rgba(0, 0, 0, 0.15);\n",
              "        filter: drop-shadow(0px 1px 2px rgba(0, 0, 0, 0.3));\n",
              "        fill: #FFFFFF;\n",
              "      }\n",
              "    </style>\n",
              "    <button class=\"colab-df-generate\" onclick=\"generateWithVariable('df21')\"\n",
              "            title=\"Generate code using this dataframe.\"\n",
              "            style=\"display:none;\">\n",
              "\n",
              "  <svg xmlns=\"http://www.w3.org/2000/svg\" height=\"24px\"viewBox=\"0 0 24 24\"\n",
              "       width=\"24px\">\n",
              "    <path d=\"M7,19H8.4L18.45,9,17,7.55,7,17.6ZM5,21V16.75L18.45,3.32a2,2,0,0,1,2.83,0l1.4,1.43a1.91,1.91,0,0,1,.58,1.4,1.91,1.91,0,0,1-.58,1.4L9.25,21ZM18.45,9,17,7.55Zm-12,3A5.31,5.31,0,0,0,4.9,8.1,5.31,5.31,0,0,0,1,6.5,5.31,5.31,0,0,0,4.9,4.9,5.31,5.31,0,0,0,6.5,1,5.31,5.31,0,0,0,8.1,4.9,5.31,5.31,0,0,0,12,6.5,5.46,5.46,0,0,0,6.5,12Z\"/>\n",
              "  </svg>\n",
              "    </button>\n",
              "    <script>\n",
              "      (() => {\n",
              "      const buttonEl =\n",
              "        document.querySelector('#id_26f8219f-5e38-40fb-9067-987d942b91ff button.colab-df-generate');\n",
              "      buttonEl.style.display =\n",
              "        google.colab.kernel.accessAllowed ? 'block' : 'none';\n",
              "\n",
              "      buttonEl.onclick = () => {\n",
              "        google.colab.notebook.generateWithVariable('df21');\n",
              "      }\n",
              "      })();\n",
              "    </script>\n",
              "  </div>\n",
              "\n",
              "    </div>\n",
              "  </div>\n"
            ],
            "application/vnd.google.colaboratory.intrinsic+json": {
              "type": "dataframe",
              "variable_name": "df21",
              "summary": "{\n  \"name\": \"df21\",\n  \"rows\": 5,\n  \"fields\": [\n    {\n      \"column\": \"x\",\n      \"properties\": {\n        \"dtype\": \"number\",\n        \"std\": 1,\n        \"min\": 0,\n        \"max\": 4,\n        \"num_unique_values\": 5,\n        \"samples\": [\n          1,\n          4,\n          2\n        ],\n        \"semantic_type\": \"\",\n        \"description\": \"\"\n      }\n    },\n    {\n      \"column\": \"Deaths Observed\",\n      \"properties\": {\n        \"dtype\": \"number\",\n        \"std\": 46,\n        \"min\": 1,\n        \"max\": 109,\n        \"num_unique_values\": 5,\n        \"samples\": [\n          65,\n          1,\n          22\n        ],\n        \"semantic_type\": \"\",\n        \"description\": \"\"\n      }\n    }\n  ]\n}"
            }
          },
          "metadata": {},
          "execution_count": 97
        }
      ]
    },
    {
      "cell_type": "markdown",
      "source": [
        "(a) Compute the proportion of years in which there were 0\n",
        "deaths, 1 death, 2 deaths, 3 deaths, and 4 deaths.\n"
      ],
      "metadata": {
        "id": "Mt2Ic1Fb257q"
      }
    },
    {
      "cell_type": "code",
      "source": [
        "total_deaths = df21['Deaths Observed'].sum()\n",
        "total_deaths"
      ],
      "metadata": {
        "colab": {
          "base_uri": "https://localhost:8080/",
          "height": 0
        },
        "id": "kjjWZ3lB32Uq",
        "outputId": "155bd730-6778-4f78-edc9-1b5c61da736a"
      },
      "execution_count": 98,
      "outputs": [
        {
          "output_type": "execute_result",
          "data": {
            "text/plain": [
              "200"
            ]
          },
          "metadata": {},
          "execution_count": 98
        }
      ]
    },
    {
      "cell_type": "code",
      "source": [
        "df21['Proportion'] = df21['Deaths Observed'] / total_deaths\n",
        "df21"
      ],
      "metadata": {
        "colab": {
          "base_uri": "https://localhost:8080/",
          "height": 206
        },
        "id": "AahQ5lyT3m-l",
        "outputId": "e9d126a3-1575-4bf8-e8b1-0862dec9d4d6"
      },
      "execution_count": 99,
      "outputs": [
        {
          "output_type": "execute_result",
          "data": {
            "text/plain": [
              "   x  Deaths Observed  Proportion\n",
              "0  0              109       0.545\n",
              "1  1               65       0.325\n",
              "2  2               22       0.110\n",
              "3  3                3       0.015\n",
              "4  4                1       0.005"
            ],
            "text/html": [
              "\n",
              "  <div id=\"df-a040f72d-bf76-4ac4-a178-c9cbdfbd5a2b\" class=\"colab-df-container\">\n",
              "    <div>\n",
              "<style scoped>\n",
              "    .dataframe tbody tr th:only-of-type {\n",
              "        vertical-align: middle;\n",
              "    }\n",
              "\n",
              "    .dataframe tbody tr th {\n",
              "        vertical-align: top;\n",
              "    }\n",
              "\n",
              "    .dataframe thead th {\n",
              "        text-align: right;\n",
              "    }\n",
              "</style>\n",
              "<table border=\"1\" class=\"dataframe\">\n",
              "  <thead>\n",
              "    <tr style=\"text-align: right;\">\n",
              "      <th></th>\n",
              "      <th>x</th>\n",
              "      <th>Deaths Observed</th>\n",
              "      <th>Proportion</th>\n",
              "    </tr>\n",
              "  </thead>\n",
              "  <tbody>\n",
              "    <tr>\n",
              "      <th>0</th>\n",
              "      <td>0</td>\n",
              "      <td>109</td>\n",
              "      <td>0.545</td>\n",
              "    </tr>\n",
              "    <tr>\n",
              "      <th>1</th>\n",
              "      <td>1</td>\n",
              "      <td>65</td>\n",
              "      <td>0.325</td>\n",
              "    </tr>\n",
              "    <tr>\n",
              "      <th>2</th>\n",
              "      <td>2</td>\n",
              "      <td>22</td>\n",
              "      <td>0.110</td>\n",
              "    </tr>\n",
              "    <tr>\n",
              "      <th>3</th>\n",
              "      <td>3</td>\n",
              "      <td>3</td>\n",
              "      <td>0.015</td>\n",
              "    </tr>\n",
              "    <tr>\n",
              "      <th>4</th>\n",
              "      <td>4</td>\n",
              "      <td>1</td>\n",
              "      <td>0.005</td>\n",
              "    </tr>\n",
              "  </tbody>\n",
              "</table>\n",
              "</div>\n",
              "    <div class=\"colab-df-buttons\">\n",
              "\n",
              "  <div class=\"colab-df-container\">\n",
              "    <button class=\"colab-df-convert\" onclick=\"convertToInteractive('df-a040f72d-bf76-4ac4-a178-c9cbdfbd5a2b')\"\n",
              "            title=\"Convert this dataframe to an interactive table.\"\n",
              "            style=\"display:none;\">\n",
              "\n",
              "  <svg xmlns=\"http://www.w3.org/2000/svg\" height=\"24px\" viewBox=\"0 -960 960 960\">\n",
              "    <path d=\"M120-120v-720h720v720H120Zm60-500h600v-160H180v160Zm220 220h160v-160H400v160Zm0 220h160v-160H400v160ZM180-400h160v-160H180v160Zm440 0h160v-160H620v160ZM180-180h160v-160H180v160Zm440 0h160v-160H620v160Z\"/>\n",
              "  </svg>\n",
              "    </button>\n",
              "\n",
              "  <style>\n",
              "    .colab-df-container {\n",
              "      display:flex;\n",
              "      gap: 12px;\n",
              "    }\n",
              "\n",
              "    .colab-df-convert {\n",
              "      background-color: #E8F0FE;\n",
              "      border: none;\n",
              "      border-radius: 50%;\n",
              "      cursor: pointer;\n",
              "      display: none;\n",
              "      fill: #1967D2;\n",
              "      height: 32px;\n",
              "      padding: 0 0 0 0;\n",
              "      width: 32px;\n",
              "    }\n",
              "\n",
              "    .colab-df-convert:hover {\n",
              "      background-color: #E2EBFA;\n",
              "      box-shadow: 0px 1px 2px rgba(60, 64, 67, 0.3), 0px 1px 3px 1px rgba(60, 64, 67, 0.15);\n",
              "      fill: #174EA6;\n",
              "    }\n",
              "\n",
              "    .colab-df-buttons div {\n",
              "      margin-bottom: 4px;\n",
              "    }\n",
              "\n",
              "    [theme=dark] .colab-df-convert {\n",
              "      background-color: #3B4455;\n",
              "      fill: #D2E3FC;\n",
              "    }\n",
              "\n",
              "    [theme=dark] .colab-df-convert:hover {\n",
              "      background-color: #434B5C;\n",
              "      box-shadow: 0px 1px 3px 1px rgba(0, 0, 0, 0.15);\n",
              "      filter: drop-shadow(0px 1px 2px rgba(0, 0, 0, 0.3));\n",
              "      fill: #FFFFFF;\n",
              "    }\n",
              "  </style>\n",
              "\n",
              "    <script>\n",
              "      const buttonEl =\n",
              "        document.querySelector('#df-a040f72d-bf76-4ac4-a178-c9cbdfbd5a2b button.colab-df-convert');\n",
              "      buttonEl.style.display =\n",
              "        google.colab.kernel.accessAllowed ? 'block' : 'none';\n",
              "\n",
              "      async function convertToInteractive(key) {\n",
              "        const element = document.querySelector('#df-a040f72d-bf76-4ac4-a178-c9cbdfbd5a2b');\n",
              "        const dataTable =\n",
              "          await google.colab.kernel.invokeFunction('convertToInteractive',\n",
              "                                                    [key], {});\n",
              "        if (!dataTable) return;\n",
              "\n",
              "        const docLinkHtml = 'Like what you see? Visit the ' +\n",
              "          '<a target=\"_blank\" href=https://colab.research.google.com/notebooks/data_table.ipynb>data table notebook</a>'\n",
              "          + ' to learn more about interactive tables.';\n",
              "        element.innerHTML = '';\n",
              "        dataTable['output_type'] = 'display_data';\n",
              "        await google.colab.output.renderOutput(dataTable, element);\n",
              "        const docLink = document.createElement('div');\n",
              "        docLink.innerHTML = docLinkHtml;\n",
              "        element.appendChild(docLink);\n",
              "      }\n",
              "    </script>\n",
              "  </div>\n",
              "\n",
              "\n",
              "<div id=\"df-7f361bbb-99fd-4605-a8a5-3762d019e082\">\n",
              "  <button class=\"colab-df-quickchart\" onclick=\"quickchart('df-7f361bbb-99fd-4605-a8a5-3762d019e082')\"\n",
              "            title=\"Suggest charts\"\n",
              "            style=\"display:none;\">\n",
              "\n",
              "<svg xmlns=\"http://www.w3.org/2000/svg\" height=\"24px\"viewBox=\"0 0 24 24\"\n",
              "     width=\"24px\">\n",
              "    <g>\n",
              "        <path d=\"M19 3H5c-1.1 0-2 .9-2 2v14c0 1.1.9 2 2 2h14c1.1 0 2-.9 2-2V5c0-1.1-.9-2-2-2zM9 17H7v-7h2v7zm4 0h-2V7h2v10zm4 0h-2v-4h2v4z\"/>\n",
              "    </g>\n",
              "</svg>\n",
              "  </button>\n",
              "\n",
              "<style>\n",
              "  .colab-df-quickchart {\n",
              "      --bg-color: #E8F0FE;\n",
              "      --fill-color: #1967D2;\n",
              "      --hover-bg-color: #E2EBFA;\n",
              "      --hover-fill-color: #174EA6;\n",
              "      --disabled-fill-color: #AAA;\n",
              "      --disabled-bg-color: #DDD;\n",
              "  }\n",
              "\n",
              "  [theme=dark] .colab-df-quickchart {\n",
              "      --bg-color: #3B4455;\n",
              "      --fill-color: #D2E3FC;\n",
              "      --hover-bg-color: #434B5C;\n",
              "      --hover-fill-color: #FFFFFF;\n",
              "      --disabled-bg-color: #3B4455;\n",
              "      --disabled-fill-color: #666;\n",
              "  }\n",
              "\n",
              "  .colab-df-quickchart {\n",
              "    background-color: var(--bg-color);\n",
              "    border: none;\n",
              "    border-radius: 50%;\n",
              "    cursor: pointer;\n",
              "    display: none;\n",
              "    fill: var(--fill-color);\n",
              "    height: 32px;\n",
              "    padding: 0;\n",
              "    width: 32px;\n",
              "  }\n",
              "\n",
              "  .colab-df-quickchart:hover {\n",
              "    background-color: var(--hover-bg-color);\n",
              "    box-shadow: 0 1px 2px rgba(60, 64, 67, 0.3), 0 1px 3px 1px rgba(60, 64, 67, 0.15);\n",
              "    fill: var(--button-hover-fill-color);\n",
              "  }\n",
              "\n",
              "  .colab-df-quickchart-complete:disabled,\n",
              "  .colab-df-quickchart-complete:disabled:hover {\n",
              "    background-color: var(--disabled-bg-color);\n",
              "    fill: var(--disabled-fill-color);\n",
              "    box-shadow: none;\n",
              "  }\n",
              "\n",
              "  .colab-df-spinner {\n",
              "    border: 2px solid var(--fill-color);\n",
              "    border-color: transparent;\n",
              "    border-bottom-color: var(--fill-color);\n",
              "    animation:\n",
              "      spin 1s steps(1) infinite;\n",
              "  }\n",
              "\n",
              "  @keyframes spin {\n",
              "    0% {\n",
              "      border-color: transparent;\n",
              "      border-bottom-color: var(--fill-color);\n",
              "      border-left-color: var(--fill-color);\n",
              "    }\n",
              "    20% {\n",
              "      border-color: transparent;\n",
              "      border-left-color: var(--fill-color);\n",
              "      border-top-color: var(--fill-color);\n",
              "    }\n",
              "    30% {\n",
              "      border-color: transparent;\n",
              "      border-left-color: var(--fill-color);\n",
              "      border-top-color: var(--fill-color);\n",
              "      border-right-color: var(--fill-color);\n",
              "    }\n",
              "    40% {\n",
              "      border-color: transparent;\n",
              "      border-right-color: var(--fill-color);\n",
              "      border-top-color: var(--fill-color);\n",
              "    }\n",
              "    60% {\n",
              "      border-color: transparent;\n",
              "      border-right-color: var(--fill-color);\n",
              "    }\n",
              "    80% {\n",
              "      border-color: transparent;\n",
              "      border-right-color: var(--fill-color);\n",
              "      border-bottom-color: var(--fill-color);\n",
              "    }\n",
              "    90% {\n",
              "      border-color: transparent;\n",
              "      border-bottom-color: var(--fill-color);\n",
              "    }\n",
              "  }\n",
              "</style>\n",
              "\n",
              "  <script>\n",
              "    async function quickchart(key) {\n",
              "      const quickchartButtonEl =\n",
              "        document.querySelector('#' + key + ' button');\n",
              "      quickchartButtonEl.disabled = true;  // To prevent multiple clicks.\n",
              "      quickchartButtonEl.classList.add('colab-df-spinner');\n",
              "      try {\n",
              "        const charts = await google.colab.kernel.invokeFunction(\n",
              "            'suggestCharts', [key], {});\n",
              "      } catch (error) {\n",
              "        console.error('Error during call to suggestCharts:', error);\n",
              "      }\n",
              "      quickchartButtonEl.classList.remove('colab-df-spinner');\n",
              "      quickchartButtonEl.classList.add('colab-df-quickchart-complete');\n",
              "    }\n",
              "    (() => {\n",
              "      let quickchartButtonEl =\n",
              "        document.querySelector('#df-7f361bbb-99fd-4605-a8a5-3762d019e082 button');\n",
              "      quickchartButtonEl.style.display =\n",
              "        google.colab.kernel.accessAllowed ? 'block' : 'none';\n",
              "    })();\n",
              "  </script>\n",
              "</div>\n",
              "\n",
              "  <div id=\"id_9d170590-6d42-4c60-b163-9e6bd034032d\">\n",
              "    <style>\n",
              "      .colab-df-generate {\n",
              "        background-color: #E8F0FE;\n",
              "        border: none;\n",
              "        border-radius: 50%;\n",
              "        cursor: pointer;\n",
              "        display: none;\n",
              "        fill: #1967D2;\n",
              "        height: 32px;\n",
              "        padding: 0 0 0 0;\n",
              "        width: 32px;\n",
              "      }\n",
              "\n",
              "      .colab-df-generate:hover {\n",
              "        background-color: #E2EBFA;\n",
              "        box-shadow: 0px 1px 2px rgba(60, 64, 67, 0.3), 0px 1px 3px 1px rgba(60, 64, 67, 0.15);\n",
              "        fill: #174EA6;\n",
              "      }\n",
              "\n",
              "      [theme=dark] .colab-df-generate {\n",
              "        background-color: #3B4455;\n",
              "        fill: #D2E3FC;\n",
              "      }\n",
              "\n",
              "      [theme=dark] .colab-df-generate:hover {\n",
              "        background-color: #434B5C;\n",
              "        box-shadow: 0px 1px 3px 1px rgba(0, 0, 0, 0.15);\n",
              "        filter: drop-shadow(0px 1px 2px rgba(0, 0, 0, 0.3));\n",
              "        fill: #FFFFFF;\n",
              "      }\n",
              "    </style>\n",
              "    <button class=\"colab-df-generate\" onclick=\"generateWithVariable('df21')\"\n",
              "            title=\"Generate code using this dataframe.\"\n",
              "            style=\"display:none;\">\n",
              "\n",
              "  <svg xmlns=\"http://www.w3.org/2000/svg\" height=\"24px\"viewBox=\"0 0 24 24\"\n",
              "       width=\"24px\">\n",
              "    <path d=\"M7,19H8.4L18.45,9,17,7.55,7,17.6ZM5,21V16.75L18.45,3.32a2,2,0,0,1,2.83,0l1.4,1.43a1.91,1.91,0,0,1,.58,1.4,1.91,1.91,0,0,1-.58,1.4L9.25,21ZM18.45,9,17,7.55Zm-12,3A5.31,5.31,0,0,0,4.9,8.1,5.31,5.31,0,0,0,1,6.5,5.31,5.31,0,0,0,4.9,4.9,5.31,5.31,0,0,0,6.5,1,5.31,5.31,0,0,0,8.1,4.9,5.31,5.31,0,0,0,12,6.5,5.46,5.46,0,0,0,6.5,12Z\"/>\n",
              "  </svg>\n",
              "    </button>\n",
              "    <script>\n",
              "      (() => {\n",
              "      const buttonEl =\n",
              "        document.querySelector('#id_9d170590-6d42-4c60-b163-9e6bd034032d button.colab-df-generate');\n",
              "      buttonEl.style.display =\n",
              "        google.colab.kernel.accessAllowed ? 'block' : 'none';\n",
              "\n",
              "      buttonEl.onclick = () => {\n",
              "        google.colab.notebook.generateWithVariable('df21');\n",
              "      }\n",
              "      })();\n",
              "    </script>\n",
              "  </div>\n",
              "\n",
              "    </div>\n",
              "  </div>\n"
            ],
            "application/vnd.google.colaboratory.intrinsic+json": {
              "type": "dataframe",
              "variable_name": "df21",
              "summary": "{\n  \"name\": \"df21\",\n  \"rows\": 5,\n  \"fields\": [\n    {\n      \"column\": \"x\",\n      \"properties\": {\n        \"dtype\": \"number\",\n        \"std\": 1,\n        \"min\": 0,\n        \"max\": 4,\n        \"num_unique_values\": 5,\n        \"samples\": [\n          1,\n          4,\n          2\n        ],\n        \"semantic_type\": \"\",\n        \"description\": \"\"\n      }\n    },\n    {\n      \"column\": \"Deaths Observed\",\n      \"properties\": {\n        \"dtype\": \"number\",\n        \"std\": 46,\n        \"min\": 1,\n        \"max\": 109,\n        \"num_unique_values\": 5,\n        \"samples\": [\n          65,\n          1,\n          22\n        ],\n        \"semantic_type\": \"\",\n        \"description\": \"\"\n      }\n    },\n    {\n      \"column\": \"Proportion\",\n      \"properties\": {\n        \"dtype\": \"number\",\n        \"std\": 0.23184046238739262,\n        \"min\": 0.005,\n        \"max\": 0.545,\n        \"num_unique_values\": 5,\n        \"samples\": [\n          0.325,\n          0.005,\n          0.11\n        ],\n        \"semantic_type\": \"\",\n        \"description\": \"\"\n      }\n    }\n  ]\n}"
            }
          },
          "metadata": {},
          "execution_count": 99
        }
      ]
    },
    {
      "cell_type": "markdown",
      "source": [
        "(b) From the data in the table, what was the mean number of\n",
        "deaths per year?\n"
      ],
      "metadata": {
        "id": "5sloOeof2_gM"
      }
    },
    {
      "cell_type": "code",
      "source": [
        "x_mean = sum(df21['x'] * df21['Proportion'])\n",
        "x_mean = round(x_mean,2)"
      ],
      "metadata": {
        "id": "hLEsKlXN4Df7"
      },
      "execution_count": 107,
      "outputs": []
    },
    {
      "cell_type": "markdown",
      "source": [
        "(c) Use the mean number of deaths per year found in part (b)\n",
        "and the Poisson probability law to determine the theoretical\n",
        "proportion of years that 0 deaths should occur. Repeat this\n",
        "for 1, 2, 3, and 4 deaths.\n"
      ],
      "metadata": {
        "id": "PBeJiyXZ3BeR"
      }
    },
    {
      "cell_type": "code",
      "source": [
        "p_0c = round(poisson_probability(x_mean, 0),4)\n",
        "p_1c = round(poisson_probability(x_mean, 1),4)\n",
        "p_2c = round(poisson_probability(x_mean, 2),4)\n",
        "p_3c = round(poisson_probability(x_mean, 3),4)\n",
        "df21['Theoretical Proportion'] = [p_0c, p_1c, p_2c, p_3c, p_4c]\n",
        "df21"
      ],
      "metadata": {
        "colab": {
          "base_uri": "https://localhost:8080/",
          "height": 206
        },
        "id": "ro4u74ci5hE-",
        "outputId": "35ede61b-b178-43f7-eeb7-b18e1de0a307"
      },
      "execution_count": 109,
      "outputs": [
        {
          "output_type": "execute_result",
          "data": {
            "text/plain": [
              "   x  Deaths Observed  Proportion  Theoretical Proportion\n",
              "0  0              109       0.545                0.543400\n",
              "1  1               65       0.325                0.331400\n",
              "2  2               22       0.110                0.101100\n",
              "3  3                3       0.015                0.020600\n",
              "4  4                1       0.005                0.003135"
            ],
            "text/html": [
              "\n",
              "  <div id=\"df-e06cd27a-cf56-4ad1-a5b8-fd3225da8a02\" class=\"colab-df-container\">\n",
              "    <div>\n",
              "<style scoped>\n",
              "    .dataframe tbody tr th:only-of-type {\n",
              "        vertical-align: middle;\n",
              "    }\n",
              "\n",
              "    .dataframe tbody tr th {\n",
              "        vertical-align: top;\n",
              "    }\n",
              "\n",
              "    .dataframe thead th {\n",
              "        text-align: right;\n",
              "    }\n",
              "</style>\n",
              "<table border=\"1\" class=\"dataframe\">\n",
              "  <thead>\n",
              "    <tr style=\"text-align: right;\">\n",
              "      <th></th>\n",
              "      <th>x</th>\n",
              "      <th>Deaths Observed</th>\n",
              "      <th>Proportion</th>\n",
              "      <th>Theoretical Proportion</th>\n",
              "    </tr>\n",
              "  </thead>\n",
              "  <tbody>\n",
              "    <tr>\n",
              "      <th>0</th>\n",
              "      <td>0</td>\n",
              "      <td>109</td>\n",
              "      <td>0.545</td>\n",
              "      <td>0.543400</td>\n",
              "    </tr>\n",
              "    <tr>\n",
              "      <th>1</th>\n",
              "      <td>1</td>\n",
              "      <td>65</td>\n",
              "      <td>0.325</td>\n",
              "      <td>0.331400</td>\n",
              "    </tr>\n",
              "    <tr>\n",
              "      <th>2</th>\n",
              "      <td>2</td>\n",
              "      <td>22</td>\n",
              "      <td>0.110</td>\n",
              "      <td>0.101100</td>\n",
              "    </tr>\n",
              "    <tr>\n",
              "      <th>3</th>\n",
              "      <td>3</td>\n",
              "      <td>3</td>\n",
              "      <td>0.015</td>\n",
              "      <td>0.020600</td>\n",
              "    </tr>\n",
              "    <tr>\n",
              "      <th>4</th>\n",
              "      <td>4</td>\n",
              "      <td>1</td>\n",
              "      <td>0.005</td>\n",
              "      <td>0.003135</td>\n",
              "    </tr>\n",
              "  </tbody>\n",
              "</table>\n",
              "</div>\n",
              "    <div class=\"colab-df-buttons\">\n",
              "\n",
              "  <div class=\"colab-df-container\">\n",
              "    <button class=\"colab-df-convert\" onclick=\"convertToInteractive('df-e06cd27a-cf56-4ad1-a5b8-fd3225da8a02')\"\n",
              "            title=\"Convert this dataframe to an interactive table.\"\n",
              "            style=\"display:none;\">\n",
              "\n",
              "  <svg xmlns=\"http://www.w3.org/2000/svg\" height=\"24px\" viewBox=\"0 -960 960 960\">\n",
              "    <path d=\"M120-120v-720h720v720H120Zm60-500h600v-160H180v160Zm220 220h160v-160H400v160Zm0 220h160v-160H400v160ZM180-400h160v-160H180v160Zm440 0h160v-160H620v160ZM180-180h160v-160H180v160Zm440 0h160v-160H620v160Z\"/>\n",
              "  </svg>\n",
              "    </button>\n",
              "\n",
              "  <style>\n",
              "    .colab-df-container {\n",
              "      display:flex;\n",
              "      gap: 12px;\n",
              "    }\n",
              "\n",
              "    .colab-df-convert {\n",
              "      background-color: #E8F0FE;\n",
              "      border: none;\n",
              "      border-radius: 50%;\n",
              "      cursor: pointer;\n",
              "      display: none;\n",
              "      fill: #1967D2;\n",
              "      height: 32px;\n",
              "      padding: 0 0 0 0;\n",
              "      width: 32px;\n",
              "    }\n",
              "\n",
              "    .colab-df-convert:hover {\n",
              "      background-color: #E2EBFA;\n",
              "      box-shadow: 0px 1px 2px rgba(60, 64, 67, 0.3), 0px 1px 3px 1px rgba(60, 64, 67, 0.15);\n",
              "      fill: #174EA6;\n",
              "    }\n",
              "\n",
              "    .colab-df-buttons div {\n",
              "      margin-bottom: 4px;\n",
              "    }\n",
              "\n",
              "    [theme=dark] .colab-df-convert {\n",
              "      background-color: #3B4455;\n",
              "      fill: #D2E3FC;\n",
              "    }\n",
              "\n",
              "    [theme=dark] .colab-df-convert:hover {\n",
              "      background-color: #434B5C;\n",
              "      box-shadow: 0px 1px 3px 1px rgba(0, 0, 0, 0.15);\n",
              "      filter: drop-shadow(0px 1px 2px rgba(0, 0, 0, 0.3));\n",
              "      fill: #FFFFFF;\n",
              "    }\n",
              "  </style>\n",
              "\n",
              "    <script>\n",
              "      const buttonEl =\n",
              "        document.querySelector('#df-e06cd27a-cf56-4ad1-a5b8-fd3225da8a02 button.colab-df-convert');\n",
              "      buttonEl.style.display =\n",
              "        google.colab.kernel.accessAllowed ? 'block' : 'none';\n",
              "\n",
              "      async function convertToInteractive(key) {\n",
              "        const element = document.querySelector('#df-e06cd27a-cf56-4ad1-a5b8-fd3225da8a02');\n",
              "        const dataTable =\n",
              "          await google.colab.kernel.invokeFunction('convertToInteractive',\n",
              "                                                    [key], {});\n",
              "        if (!dataTable) return;\n",
              "\n",
              "        const docLinkHtml = 'Like what you see? Visit the ' +\n",
              "          '<a target=\"_blank\" href=https://colab.research.google.com/notebooks/data_table.ipynb>data table notebook</a>'\n",
              "          + ' to learn more about interactive tables.';\n",
              "        element.innerHTML = '';\n",
              "        dataTable['output_type'] = 'display_data';\n",
              "        await google.colab.output.renderOutput(dataTable, element);\n",
              "        const docLink = document.createElement('div');\n",
              "        docLink.innerHTML = docLinkHtml;\n",
              "        element.appendChild(docLink);\n",
              "      }\n",
              "    </script>\n",
              "  </div>\n",
              "\n",
              "\n",
              "<div id=\"df-529b1b50-bb50-408b-b6aa-1e034fe4396c\">\n",
              "  <button class=\"colab-df-quickchart\" onclick=\"quickchart('df-529b1b50-bb50-408b-b6aa-1e034fe4396c')\"\n",
              "            title=\"Suggest charts\"\n",
              "            style=\"display:none;\">\n",
              "\n",
              "<svg xmlns=\"http://www.w3.org/2000/svg\" height=\"24px\"viewBox=\"0 0 24 24\"\n",
              "     width=\"24px\">\n",
              "    <g>\n",
              "        <path d=\"M19 3H5c-1.1 0-2 .9-2 2v14c0 1.1.9 2 2 2h14c1.1 0 2-.9 2-2V5c0-1.1-.9-2-2-2zM9 17H7v-7h2v7zm4 0h-2V7h2v10zm4 0h-2v-4h2v4z\"/>\n",
              "    </g>\n",
              "</svg>\n",
              "  </button>\n",
              "\n",
              "<style>\n",
              "  .colab-df-quickchart {\n",
              "      --bg-color: #E8F0FE;\n",
              "      --fill-color: #1967D2;\n",
              "      --hover-bg-color: #E2EBFA;\n",
              "      --hover-fill-color: #174EA6;\n",
              "      --disabled-fill-color: #AAA;\n",
              "      --disabled-bg-color: #DDD;\n",
              "  }\n",
              "\n",
              "  [theme=dark] .colab-df-quickchart {\n",
              "      --bg-color: #3B4455;\n",
              "      --fill-color: #D2E3FC;\n",
              "      --hover-bg-color: #434B5C;\n",
              "      --hover-fill-color: #FFFFFF;\n",
              "      --disabled-bg-color: #3B4455;\n",
              "      --disabled-fill-color: #666;\n",
              "  }\n",
              "\n",
              "  .colab-df-quickchart {\n",
              "    background-color: var(--bg-color);\n",
              "    border: none;\n",
              "    border-radius: 50%;\n",
              "    cursor: pointer;\n",
              "    display: none;\n",
              "    fill: var(--fill-color);\n",
              "    height: 32px;\n",
              "    padding: 0;\n",
              "    width: 32px;\n",
              "  }\n",
              "\n",
              "  .colab-df-quickchart:hover {\n",
              "    background-color: var(--hover-bg-color);\n",
              "    box-shadow: 0 1px 2px rgba(60, 64, 67, 0.3), 0 1px 3px 1px rgba(60, 64, 67, 0.15);\n",
              "    fill: var(--button-hover-fill-color);\n",
              "  }\n",
              "\n",
              "  .colab-df-quickchart-complete:disabled,\n",
              "  .colab-df-quickchart-complete:disabled:hover {\n",
              "    background-color: var(--disabled-bg-color);\n",
              "    fill: var(--disabled-fill-color);\n",
              "    box-shadow: none;\n",
              "  }\n",
              "\n",
              "  .colab-df-spinner {\n",
              "    border: 2px solid var(--fill-color);\n",
              "    border-color: transparent;\n",
              "    border-bottom-color: var(--fill-color);\n",
              "    animation:\n",
              "      spin 1s steps(1) infinite;\n",
              "  }\n",
              "\n",
              "  @keyframes spin {\n",
              "    0% {\n",
              "      border-color: transparent;\n",
              "      border-bottom-color: var(--fill-color);\n",
              "      border-left-color: var(--fill-color);\n",
              "    }\n",
              "    20% {\n",
              "      border-color: transparent;\n",
              "      border-left-color: var(--fill-color);\n",
              "      border-top-color: var(--fill-color);\n",
              "    }\n",
              "    30% {\n",
              "      border-color: transparent;\n",
              "      border-left-color: var(--fill-color);\n",
              "      border-top-color: var(--fill-color);\n",
              "      border-right-color: var(--fill-color);\n",
              "    }\n",
              "    40% {\n",
              "      border-color: transparent;\n",
              "      border-right-color: var(--fill-color);\n",
              "      border-top-color: var(--fill-color);\n",
              "    }\n",
              "    60% {\n",
              "      border-color: transparent;\n",
              "      border-right-color: var(--fill-color);\n",
              "    }\n",
              "    80% {\n",
              "      border-color: transparent;\n",
              "      border-right-color: var(--fill-color);\n",
              "      border-bottom-color: var(--fill-color);\n",
              "    }\n",
              "    90% {\n",
              "      border-color: transparent;\n",
              "      border-bottom-color: var(--fill-color);\n",
              "    }\n",
              "  }\n",
              "</style>\n",
              "\n",
              "  <script>\n",
              "    async function quickchart(key) {\n",
              "      const quickchartButtonEl =\n",
              "        document.querySelector('#' + key + ' button');\n",
              "      quickchartButtonEl.disabled = true;  // To prevent multiple clicks.\n",
              "      quickchartButtonEl.classList.add('colab-df-spinner');\n",
              "      try {\n",
              "        const charts = await google.colab.kernel.invokeFunction(\n",
              "            'suggestCharts', [key], {});\n",
              "      } catch (error) {\n",
              "        console.error('Error during call to suggestCharts:', error);\n",
              "      }\n",
              "      quickchartButtonEl.classList.remove('colab-df-spinner');\n",
              "      quickchartButtonEl.classList.add('colab-df-quickchart-complete');\n",
              "    }\n",
              "    (() => {\n",
              "      let quickchartButtonEl =\n",
              "        document.querySelector('#df-529b1b50-bb50-408b-b6aa-1e034fe4396c button');\n",
              "      quickchartButtonEl.style.display =\n",
              "        google.colab.kernel.accessAllowed ? 'block' : 'none';\n",
              "    })();\n",
              "  </script>\n",
              "</div>\n",
              "\n",
              "  <div id=\"id_1c07f804-c73b-47c9-99b2-06d540501b67\">\n",
              "    <style>\n",
              "      .colab-df-generate {\n",
              "        background-color: #E8F0FE;\n",
              "        border: none;\n",
              "        border-radius: 50%;\n",
              "        cursor: pointer;\n",
              "        display: none;\n",
              "        fill: #1967D2;\n",
              "        height: 32px;\n",
              "        padding: 0 0 0 0;\n",
              "        width: 32px;\n",
              "      }\n",
              "\n",
              "      .colab-df-generate:hover {\n",
              "        background-color: #E2EBFA;\n",
              "        box-shadow: 0px 1px 2px rgba(60, 64, 67, 0.3), 0px 1px 3px 1px rgba(60, 64, 67, 0.15);\n",
              "        fill: #174EA6;\n",
              "      }\n",
              "\n",
              "      [theme=dark] .colab-df-generate {\n",
              "        background-color: #3B4455;\n",
              "        fill: #D2E3FC;\n",
              "      }\n",
              "\n",
              "      [theme=dark] .colab-df-generate:hover {\n",
              "        background-color: #434B5C;\n",
              "        box-shadow: 0px 1px 3px 1px rgba(0, 0, 0, 0.15);\n",
              "        filter: drop-shadow(0px 1px 2px rgba(0, 0, 0, 0.3));\n",
              "        fill: #FFFFFF;\n",
              "      }\n",
              "    </style>\n",
              "    <button class=\"colab-df-generate\" onclick=\"generateWithVariable('df21')\"\n",
              "            title=\"Generate code using this dataframe.\"\n",
              "            style=\"display:none;\">\n",
              "\n",
              "  <svg xmlns=\"http://www.w3.org/2000/svg\" height=\"24px\"viewBox=\"0 0 24 24\"\n",
              "       width=\"24px\">\n",
              "    <path d=\"M7,19H8.4L18.45,9,17,7.55,7,17.6ZM5,21V16.75L18.45,3.32a2,2,0,0,1,2.83,0l1.4,1.43a1.91,1.91,0,0,1,.58,1.4,1.91,1.91,0,0,1-.58,1.4L9.25,21ZM18.45,9,17,7.55Zm-12,3A5.31,5.31,0,0,0,4.9,8.1,5.31,5.31,0,0,0,1,6.5,5.31,5.31,0,0,0,4.9,4.9,5.31,5.31,0,0,0,6.5,1,5.31,5.31,0,0,0,8.1,4.9,5.31,5.31,0,0,0,12,6.5,5.46,5.46,0,0,0,6.5,12Z\"/>\n",
              "  </svg>\n",
              "    </button>\n",
              "    <script>\n",
              "      (() => {\n",
              "      const buttonEl =\n",
              "        document.querySelector('#id_1c07f804-c73b-47c9-99b2-06d540501b67 button.colab-df-generate');\n",
              "      buttonEl.style.display =\n",
              "        google.colab.kernel.accessAllowed ? 'block' : 'none';\n",
              "\n",
              "      buttonEl.onclick = () => {\n",
              "        google.colab.notebook.generateWithVariable('df21');\n",
              "      }\n",
              "      })();\n",
              "    </script>\n",
              "  </div>\n",
              "\n",
              "    </div>\n",
              "  </div>\n"
            ],
            "application/vnd.google.colaboratory.intrinsic+json": {
              "type": "dataframe",
              "variable_name": "df21",
              "summary": "{\n  \"name\": \"df21\",\n  \"rows\": 5,\n  \"fields\": [\n    {\n      \"column\": \"x\",\n      \"properties\": {\n        \"dtype\": \"number\",\n        \"std\": 1,\n        \"min\": 0,\n        \"max\": 4,\n        \"num_unique_values\": 5,\n        \"samples\": [\n          1,\n          4,\n          2\n        ],\n        \"semantic_type\": \"\",\n        \"description\": \"\"\n      }\n    },\n    {\n      \"column\": \"Deaths Observed\",\n      \"properties\": {\n        \"dtype\": \"number\",\n        \"std\": 46,\n        \"min\": 1,\n        \"max\": 109,\n        \"num_unique_values\": 5,\n        \"samples\": [\n          65,\n          1,\n          22\n        ],\n        \"semantic_type\": \"\",\n        \"description\": \"\"\n      }\n    },\n    {\n      \"column\": \"Proportion\",\n      \"properties\": {\n        \"dtype\": \"number\",\n        \"std\": 0.23184046238739262,\n        \"min\": 0.005,\n        \"max\": 0.545,\n        \"num_unique_values\": 5,\n        \"samples\": [\n          0.325,\n          0.005,\n          0.11\n        ],\n        \"semantic_type\": \"\",\n        \"description\": \"\"\n      }\n    },\n    {\n      \"column\": \"Theoretical Proportion\",\n      \"properties\": {\n        \"dtype\": \"number\",\n        \"std\": 0.23233113815037987,\n        \"min\": 0.0031346457251738916,\n        \"max\": 0.5434,\n        \"num_unique_values\": 5,\n        \"samples\": [\n          0.3314,\n          0.0031346457251738916,\n          0.1011\n        ],\n        \"semantic_type\": \"\",\n        \"description\": \"\"\n      }\n    }\n  ]\n}"
            }
          },
          "metadata": {},
          "execution_count": 109
        }
      ]
    },
    {
      "cell_type": "markdown",
      "source": [
        "(d) Compare the observed proportions to the theoretical\n",
        "proportions. Do you think the data can be modeled by the\n",
        "Poisson probability law?\n",
        "\n",
        "`Ans: Here we can see that the proportion is highly matches with the poission probability, so we can say that the data is having poission law.`"
      ],
      "metadata": {
        "id": "4XvRTzEB3DNb"
      }
    },
    {
      "cell_type": "code",
      "source": [
        "plt.plot(df21['Proportion'], label='Observed')\n",
        "plt.plot(df21['Theoretical Proportion'], label='Theoretical')\n",
        "plt.legend()\n",
        "plt.show()"
      ],
      "metadata": {
        "colab": {
          "base_uri": "https://localhost:8080/",
          "height": 430
        },
        "id": "iJ9tl8FQ7G1D",
        "outputId": "759083c7-0e18-419d-db05-6f33422f5cae"
      },
      "execution_count": 113,
      "outputs": [
        {
          "output_type": "display_data",
          "data": {
            "text/plain": [
              "<Figure size 640x480 with 1 Axes>"
            ],
            "image/png": "[encoded data removed]"
          },
          "metadata": {}
        }
      ]
    }
  ]
}